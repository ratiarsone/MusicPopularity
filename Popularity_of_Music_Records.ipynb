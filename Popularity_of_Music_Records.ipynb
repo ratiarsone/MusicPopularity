{
  "nbformat": 4,
  "nbformat_minor": 0,
  "metadata": {
    "colab": {
      "provenance": [],
      "gpuType": "T4"
    },
    "kernelspec": {
      "name": "python3",
      "display_name": "Python 3"
    },
    "language_info": {
      "name": "python"
    },
    "accelerator": "GPU"
  },
  "cells": [
    {
      "cell_type": "markdown",
      "metadata": {
        "id": "c0f9f2ba"
      },
      "source": [
        "# Executive Summary\n",
        "**Submitted by:** Edouard Ratiarson\n",
        "**Deadline:** December 9, 2023\n",
        "\n",
        "**Objective:** This submission demonstrates my hands-on experience in machine learning, focusing on a classification task. The primary goal is to predict the likelihood of a song being a hit on the Billboard charts, leveraging a dataset from [Kaggle: Popularity of Music Records](https://www.kaggle.com/datasets/econdata/popularity-of-music-records).\n",
        "\n",
        "## Approach and Structure:\n",
        "1. **Neural Network Implementation**: Initially, I designed and implemented a neural network for the classification task using TensorFlow. This early focus on a complex model provided a benchmark for subsequent comparisons.\n",
        "2. **Data Preprocessing**: Following the neural network implementation, I cleaned and preprocessed the dataset. This involved handling missing values, outliers, and standardizing features for optimal model performance.\n",
        "3. **Traditional Machine Learning Algorithms**: Post neural network analysis, I selected and implemented four traditional machine learning algorithms: Logistic Regression, Decision Trees, RandomForest, and K-NearestNeighbors. Each model was trained on the dataset and evaluated.\n",
        "4. **Performance Comparison and Analysis**: The final step involved a comprehensive comparison of the neural network with traditional algorithms, using metrics like accuracy, precision, recall, and F1-score to gauge performance.\n",
        "\n",
        "## Summary of Performance:\n",
        "- The **neural network** exhibited high precision but lower recall, indicating a tendency towards false negatives.\n",
        "- Among the traditional models, **Random Forest** demonstrated superior balance across all metrics, suggesting robustness and better generalization.\n",
        "- **Logistic Regression** and **SVM** showed comparable accuracy and F1-scores, performing well in general classification tasks.\n",
        "- **Decision Tree** displayed lower performance metrics, potentially due to overfitting issues.\n",
        "- **K-Nearest Neighbors** provided competitive results, particularly in recall, highlighting its effectiveness in identifying true positives.\n",
        "\n",
        "This comprehensive approach, starting with a neural network and followed by traditional machine learning models, allowed for an in-depth understanding of different algorithms' strengths and limitations in the context of song popularity prediction."
      ]
    },
    {
      "cell_type": "markdown",
      "source": [
        "# Clear the DataFrame and Import Libraries"
      ],
      "metadata": {
        "id": "2YbNataFDgde"
      }
    },
    {
      "cell_type": "code",
      "execution_count": null,
      "metadata": {
        "id": "3Yyljx6eWWQ_"
      },
      "outputs": [],
      "source": [
        "import numpy as np\n",
        "import pandas as pd\n",
        "import matplotlib.pyplot as plt\n",
        "import seaborn as sns"
      ]
    },
    {
      "cell_type": "markdown",
      "source": [
        "ML2_Assignment_1"
      ],
      "metadata": {
        "id": "dFl5AKTX8bOl"
      }
    },
    {
      "cell_type": "code",
      "source": [
        "# Completely removing the DataFrame structure\n",
        "df = pd.DataFrame()\n"
      ],
      "metadata": {
        "id": "S0Fed3Q8uDd0"
      },
      "execution_count": null,
      "outputs": []
    },
    {
      "cell_type": "code",
      "source": [
        "# Clearing the DataFrame\n",
        "df = df.iloc[0:0]\n",
        "\n",
        "# This will remove all data from df, leaving an empty DataFrame with the same columns\n"
      ],
      "metadata": {
        "id": "e0irhXu6uIE2"
      },
      "execution_count": null,
      "outputs": []
    },
    {
      "cell_type": "code",
      "source": [
        "df = pd.read_csv(r\"/content/songs wo timbre.csv\", encoding='ISO-8859-1')"
      ],
      "metadata": {
        "id": "n7MlRa-vWdPb"
      },
      "execution_count": null,
      "outputs": []
    },
    {
      "cell_type": "markdown",
      "source": [
        "# Load the Dataset and analyze the data"
      ],
      "metadata": {
        "id": "3qY18JmODuZ1"
      }
    },
    {
      "cell_type": "code",
      "source": [
        "df.head()"
      ],
      "metadata": {
        "colab": {
          "base_uri": "https://localhost:8080/",
          "height": 330
        },
        "id": "aZJ1b_HvWgBA",
        "outputId": "66c36874-461f-4b05-99df-d2d581b25e52"
      },
      "execution_count": null,
      "outputs": [
        {
          "output_type": "execute_result",
          "data": {
            "text/plain": [
              "   year                           songtitle         artistname  \\\n",
              "0  2010  This Is the House That Doubt Built  A Day to Remember   \n",
              "1  2010                     Sticks & Bricks  A Day to Remember   \n",
              "2  2010                          All I Want  A Day to Remember   \n",
              "3  2010                    It's Complicated  A Day to Remember   \n",
              "4  2010                           2nd Sucks  A Day to Remember   \n",
              "\n",
              "               songID            artistID  timesignature  \\\n",
              "0  SOBGGAB12C5664F054  AROBSHL1187B9AFB01              3   \n",
              "1  SOPAQHU1315CD47F31  AROBSHL1187B9AFB01              4   \n",
              "2  SOOIZOU1376E7C6386  AROBSHL1187B9AFB01              4   \n",
              "3  SODRYWD1315CD49DBE  AROBSHL1187B9AFB01              4   \n",
              "4  SOICMQB1315CD46EE3  AROBSHL1187B9AFB01              4   \n",
              "\n",
              "   timesignature_confidence  loudness    tempo  tempo_confidence  key  \\\n",
              "0                     0.853    -4.262   91.525             0.953   11   \n",
              "1                     1.000    -4.051  140.048             0.921   10   \n",
              "2                     1.000    -3.571  160.512             0.489    2   \n",
              "3                     1.000    -3.815   97.525             0.794    1   \n",
              "4                     0.788    -4.707  140.053             0.286    6   \n",
              "\n",
              "   key_confidence    energy  pitch  Top10  \n",
              "0           0.453  0.966656  0.024      0  \n",
              "1           0.469  0.984710  0.025      0  \n",
              "2           0.209  0.989900  0.026      0  \n",
              "3           0.632  0.939207  0.013      0  \n",
              "4           0.483  0.987738  0.063      0  "
            ],
            "text/html": [
              "\n",
              "  <div id=\"df-08e12e0e-5487-4976-8acc-402017a90b47\" class=\"colab-df-container\">\n",
              "    <div>\n",
              "<style scoped>\n",
              "    .dataframe tbody tr th:only-of-type {\n",
              "        vertical-align: middle;\n",
              "    }\n",
              "\n",
              "    .dataframe tbody tr th {\n",
              "        vertical-align: top;\n",
              "    }\n",
              "\n",
              "    .dataframe thead th {\n",
              "        text-align: right;\n",
              "    }\n",
              "</style>\n",
              "<table border=\"1\" class=\"dataframe\">\n",
              "  <thead>\n",
              "    <tr style=\"text-align: right;\">\n",
              "      <th></th>\n",
              "      <th>year</th>\n",
              "      <th>songtitle</th>\n",
              "      <th>artistname</th>\n",
              "      <th>songID</th>\n",
              "      <th>artistID</th>\n",
              "      <th>timesignature</th>\n",
              "      <th>timesignature_confidence</th>\n",
              "      <th>loudness</th>\n",
              "      <th>tempo</th>\n",
              "      <th>tempo_confidence</th>\n",
              "      <th>key</th>\n",
              "      <th>key_confidence</th>\n",
              "      <th>energy</th>\n",
              "      <th>pitch</th>\n",
              "      <th>Top10</th>\n",
              "    </tr>\n",
              "  </thead>\n",
              "  <tbody>\n",
              "    <tr>\n",
              "      <th>0</th>\n",
              "      <td>2010</td>\n",
              "      <td>This Is the House That Doubt Built</td>\n",
              "      <td>A Day to Remember</td>\n",
              "      <td>SOBGGAB12C5664F054</td>\n",
              "      <td>AROBSHL1187B9AFB01</td>\n",
              "      <td>3</td>\n",
              "      <td>0.853</td>\n",
              "      <td>-4.262</td>\n",
              "      <td>91.525</td>\n",
              "      <td>0.953</td>\n",
              "      <td>11</td>\n",
              "      <td>0.453</td>\n",
              "      <td>0.966656</td>\n",
              "      <td>0.024</td>\n",
              "      <td>0</td>\n",
              "    </tr>\n",
              "    <tr>\n",
              "      <th>1</th>\n",
              "      <td>2010</td>\n",
              "      <td>Sticks &amp; Bricks</td>\n",
              "      <td>A Day to Remember</td>\n",
              "      <td>SOPAQHU1315CD47F31</td>\n",
              "      <td>AROBSHL1187B9AFB01</td>\n",
              "      <td>4</td>\n",
              "      <td>1.000</td>\n",
              "      <td>-4.051</td>\n",
              "      <td>140.048</td>\n",
              "      <td>0.921</td>\n",
              "      <td>10</td>\n",
              "      <td>0.469</td>\n",
              "      <td>0.984710</td>\n",
              "      <td>0.025</td>\n",
              "      <td>0</td>\n",
              "    </tr>\n",
              "    <tr>\n",
              "      <th>2</th>\n",
              "      <td>2010</td>\n",
              "      <td>All I Want</td>\n",
              "      <td>A Day to Remember</td>\n",
              "      <td>SOOIZOU1376E7C6386</td>\n",
              "      <td>AROBSHL1187B9AFB01</td>\n",
              "      <td>4</td>\n",
              "      <td>1.000</td>\n",
              "      <td>-3.571</td>\n",
              "      <td>160.512</td>\n",
              "      <td>0.489</td>\n",
              "      <td>2</td>\n",
              "      <td>0.209</td>\n",
              "      <td>0.989900</td>\n",
              "      <td>0.026</td>\n",
              "      <td>0</td>\n",
              "    </tr>\n",
              "    <tr>\n",
              "      <th>3</th>\n",
              "      <td>2010</td>\n",
              "      <td>It's Complicated</td>\n",
              "      <td>A Day to Remember</td>\n",
              "      <td>SODRYWD1315CD49DBE</td>\n",
              "      <td>AROBSHL1187B9AFB01</td>\n",
              "      <td>4</td>\n",
              "      <td>1.000</td>\n",
              "      <td>-3.815</td>\n",
              "      <td>97.525</td>\n",
              "      <td>0.794</td>\n",
              "      <td>1</td>\n",
              "      <td>0.632</td>\n",
              "      <td>0.939207</td>\n",
              "      <td>0.013</td>\n",
              "      <td>0</td>\n",
              "    </tr>\n",
              "    <tr>\n",
              "      <th>4</th>\n",
              "      <td>2010</td>\n",
              "      <td>2nd Sucks</td>\n",
              "      <td>A Day to Remember</td>\n",
              "      <td>SOICMQB1315CD46EE3</td>\n",
              "      <td>AROBSHL1187B9AFB01</td>\n",
              "      <td>4</td>\n",
              "      <td>0.788</td>\n",
              "      <td>-4.707</td>\n",
              "      <td>140.053</td>\n",
              "      <td>0.286</td>\n",
              "      <td>6</td>\n",
              "      <td>0.483</td>\n",
              "      <td>0.987738</td>\n",
              "      <td>0.063</td>\n",
              "      <td>0</td>\n",
              "    </tr>\n",
              "  </tbody>\n",
              "</table>\n",
              "</div>\n",
              "    <div class=\"colab-df-buttons\">\n",
              "\n",
              "  <div class=\"colab-df-container\">\n",
              "    <button class=\"colab-df-convert\" onclick=\"convertToInteractive('df-08e12e0e-5487-4976-8acc-402017a90b47')\"\n",
              "            title=\"Convert this dataframe to an interactive table.\"\n",
              "            style=\"display:none;\">\n",
              "\n",
              "  <svg xmlns=\"http://www.w3.org/2000/svg\" height=\"24px\" viewBox=\"0 -960 960 960\">\n",
              "    <path d=\"M120-120v-720h720v720H120Zm60-500h600v-160H180v160Zm220 220h160v-160H400v160Zm0 220h160v-160H400v160ZM180-400h160v-160H180v160Zm440 0h160v-160H620v160ZM180-180h160v-160H180v160Zm440 0h160v-160H620v160Z\"/>\n",
              "  </svg>\n",
              "    </button>\n",
              "\n",
              "  <style>\n",
              "    .colab-df-container {\n",
              "      display:flex;\n",
              "      gap: 12px;\n",
              "    }\n",
              "\n",
              "    .colab-df-convert {\n",
              "      background-color: #E8F0FE;\n",
              "      border: none;\n",
              "      border-radius: 50%;\n",
              "      cursor: pointer;\n",
              "      display: none;\n",
              "      fill: #1967D2;\n",
              "      height: 32px;\n",
              "      padding: 0 0 0 0;\n",
              "      width: 32px;\n",
              "    }\n",
              "\n",
              "    .colab-df-convert:hover {\n",
              "      background-color: #E2EBFA;\n",
              "      box-shadow: 0px 1px 2px rgba(60, 64, 67, 0.3), 0px 1px 3px 1px rgba(60, 64, 67, 0.15);\n",
              "      fill: #174EA6;\n",
              "    }\n",
              "\n",
              "    .colab-df-buttons div {\n",
              "      margin-bottom: 4px;\n",
              "    }\n",
              "\n",
              "    [theme=dark] .colab-df-convert {\n",
              "      background-color: #3B4455;\n",
              "      fill: #D2E3FC;\n",
              "    }\n",
              "\n",
              "    [theme=dark] .colab-df-convert:hover {\n",
              "      background-color: #434B5C;\n",
              "      box-shadow: 0px 1px 3px 1px rgba(0, 0, 0, 0.15);\n",
              "      filter: drop-shadow(0px 1px 2px rgba(0, 0, 0, 0.3));\n",
              "      fill: #FFFFFF;\n",
              "    }\n",
              "  </style>\n",
              "\n",
              "    <script>\n",
              "      const buttonEl =\n",
              "        document.querySelector('#df-08e12e0e-5487-4976-8acc-402017a90b47 button.colab-df-convert');\n",
              "      buttonEl.style.display =\n",
              "        google.colab.kernel.accessAllowed ? 'block' : 'none';\n",
              "\n",
              "      async function convertToInteractive(key) {\n",
              "        const element = document.querySelector('#df-08e12e0e-5487-4976-8acc-402017a90b47');\n",
              "        const dataTable =\n",
              "          await google.colab.kernel.invokeFunction('convertToInteractive',\n",
              "                                                    [key], {});\n",
              "        if (!dataTable) return;\n",
              "\n",
              "        const docLinkHtml = 'Like what you see? Visit the ' +\n",
              "          '<a target=\"_blank\" href=https://colab.research.google.com/notebooks/data_table.ipynb>data table notebook</a>'\n",
              "          + ' to learn more about interactive tables.';\n",
              "        element.innerHTML = '';\n",
              "        dataTable['output_type'] = 'display_data';\n",
              "        await google.colab.output.renderOutput(dataTable, element);\n",
              "        const docLink = document.createElement('div');\n",
              "        docLink.innerHTML = docLinkHtml;\n",
              "        element.appendChild(docLink);\n",
              "      }\n",
              "    </script>\n",
              "  </div>\n",
              "\n",
              "\n",
              "<div id=\"df-a6055427-dea0-4dc9-91ae-40129599d8a8\">\n",
              "  <button class=\"colab-df-quickchart\" onclick=\"quickchart('df-a6055427-dea0-4dc9-91ae-40129599d8a8')\"\n",
              "            title=\"Suggest charts\"\n",
              "            style=\"display:none;\">\n",
              "\n",
              "<svg xmlns=\"http://www.w3.org/2000/svg\" height=\"24px\"viewBox=\"0 0 24 24\"\n",
              "     width=\"24px\">\n",
              "    <g>\n",
              "        <path d=\"M19 3H5c-1.1 0-2 .9-2 2v14c0 1.1.9 2 2 2h14c1.1 0 2-.9 2-2V5c0-1.1-.9-2-2-2zM9 17H7v-7h2v7zm4 0h-2V7h2v10zm4 0h-2v-4h2v4z\"/>\n",
              "    </g>\n",
              "</svg>\n",
              "  </button>\n",
              "\n",
              "<style>\n",
              "  .colab-df-quickchart {\n",
              "      --bg-color: #E8F0FE;\n",
              "      --fill-color: #1967D2;\n",
              "      --hover-bg-color: #E2EBFA;\n",
              "      --hover-fill-color: #174EA6;\n",
              "      --disabled-fill-color: #AAA;\n",
              "      --disabled-bg-color: #DDD;\n",
              "  }\n",
              "\n",
              "  [theme=dark] .colab-df-quickchart {\n",
              "      --bg-color: #3B4455;\n",
              "      --fill-color: #D2E3FC;\n",
              "      --hover-bg-color: #434B5C;\n",
              "      --hover-fill-color: #FFFFFF;\n",
              "      --disabled-bg-color: #3B4455;\n",
              "      --disabled-fill-color: #666;\n",
              "  }\n",
              "\n",
              "  .colab-df-quickchart {\n",
              "    background-color: var(--bg-color);\n",
              "    border: none;\n",
              "    border-radius: 50%;\n",
              "    cursor: pointer;\n",
              "    display: none;\n",
              "    fill: var(--fill-color);\n",
              "    height: 32px;\n",
              "    padding: 0;\n",
              "    width: 32px;\n",
              "  }\n",
              "\n",
              "  .colab-df-quickchart:hover {\n",
              "    background-color: var(--hover-bg-color);\n",
              "    box-shadow: 0 1px 2px rgba(60, 64, 67, 0.3), 0 1px 3px 1px rgba(60, 64, 67, 0.15);\n",
              "    fill: var(--button-hover-fill-color);\n",
              "  }\n",
              "\n",
              "  .colab-df-quickchart-complete:disabled,\n",
              "  .colab-df-quickchart-complete:disabled:hover {\n",
              "    background-color: var(--disabled-bg-color);\n",
              "    fill: var(--disabled-fill-color);\n",
              "    box-shadow: none;\n",
              "  }\n",
              "\n",
              "  .colab-df-spinner {\n",
              "    border: 2px solid var(--fill-color);\n",
              "    border-color: transparent;\n",
              "    border-bottom-color: var(--fill-color);\n",
              "    animation:\n",
              "      spin 1s steps(1) infinite;\n",
              "  }\n",
              "\n",
              "  @keyframes spin {\n",
              "    0% {\n",
              "      border-color: transparent;\n",
              "      border-bottom-color: var(--fill-color);\n",
              "      border-left-color: var(--fill-color);\n",
              "    }\n",
              "    20% {\n",
              "      border-color: transparent;\n",
              "      border-left-color: var(--fill-color);\n",
              "      border-top-color: var(--fill-color);\n",
              "    }\n",
              "    30% {\n",
              "      border-color: transparent;\n",
              "      border-left-color: var(--fill-color);\n",
              "      border-top-color: var(--fill-color);\n",
              "      border-right-color: var(--fill-color);\n",
              "    }\n",
              "    40% {\n",
              "      border-color: transparent;\n",
              "      border-right-color: var(--fill-color);\n",
              "      border-top-color: var(--fill-color);\n",
              "    }\n",
              "    60% {\n",
              "      border-color: transparent;\n",
              "      border-right-color: var(--fill-color);\n",
              "    }\n",
              "    80% {\n",
              "      border-color: transparent;\n",
              "      border-right-color: var(--fill-color);\n",
              "      border-bottom-color: var(--fill-color);\n",
              "    }\n",
              "    90% {\n",
              "      border-color: transparent;\n",
              "      border-bottom-color: var(--fill-color);\n",
              "    }\n",
              "  }\n",
              "</style>\n",
              "\n",
              "  <script>\n",
              "    async function quickchart(key) {\n",
              "      const quickchartButtonEl =\n",
              "        document.querySelector('#' + key + ' button');\n",
              "      quickchartButtonEl.disabled = true;  // To prevent multiple clicks.\n",
              "      quickchartButtonEl.classList.add('colab-df-spinner');\n",
              "      try {\n",
              "        const charts = await google.colab.kernel.invokeFunction(\n",
              "            'suggestCharts', [key], {});\n",
              "      } catch (error) {\n",
              "        console.error('Error during call to suggestCharts:', error);\n",
              "      }\n",
              "      quickchartButtonEl.classList.remove('colab-df-spinner');\n",
              "      quickchartButtonEl.classList.add('colab-df-quickchart-complete');\n",
              "    }\n",
              "    (() => {\n",
              "      let quickchartButtonEl =\n",
              "        document.querySelector('#df-a6055427-dea0-4dc9-91ae-40129599d8a8 button');\n",
              "      quickchartButtonEl.style.display =\n",
              "        google.colab.kernel.accessAllowed ? 'block' : 'none';\n",
              "    })();\n",
              "  </script>\n",
              "</div>\n",
              "    </div>\n",
              "  </div>\n"
            ]
          },
          "metadata": {},
          "execution_count": 5
        }
      ]
    },
    {
      "cell_type": "code",
      "source": [
        "df.shape"
      ],
      "metadata": {
        "colab": {
          "base_uri": "https://localhost:8080/"
        },
        "id": "KMBs0h8OWn6z",
        "outputId": "b8daee6a-5e40-4b0a-dfc8-8eec72662d07"
      },
      "execution_count": null,
      "outputs": [
        {
          "output_type": "execute_result",
          "data": {
            "text/plain": [
              "(7574, 15)"
            ]
          },
          "metadata": {},
          "execution_count": 6
        }
      ]
    },
    {
      "cell_type": "code",
      "source": [
        "df.info()"
      ],
      "metadata": {
        "colab": {
          "base_uri": "https://localhost:8080/"
        },
        "id": "rreeRsboWpKI",
        "outputId": "adb5c6f5-3e10-4f8e-d620-f553c7b0befb"
      },
      "execution_count": null,
      "outputs": [
        {
          "output_type": "stream",
          "name": "stdout",
          "text": [
            "<class 'pandas.core.frame.DataFrame'>\n",
            "RangeIndex: 7574 entries, 0 to 7573\n",
            "Data columns (total 15 columns):\n",
            " #   Column                    Non-Null Count  Dtype  \n",
            "---  ------                    --------------  -----  \n",
            " 0   year                      7574 non-null   int64  \n",
            " 1   songtitle                 7574 non-null   object \n",
            " 2   artistname                7574 non-null   object \n",
            " 3   songID                    7574 non-null   object \n",
            " 4   artistID                  7574 non-null   object \n",
            " 5   timesignature             7574 non-null   int64  \n",
            " 6   timesignature_confidence  7574 non-null   float64\n",
            " 7   loudness                  7574 non-null   float64\n",
            " 8   tempo                     7574 non-null   float64\n",
            " 9   tempo_confidence          7574 non-null   float64\n",
            " 10  key                       7574 non-null   int64  \n",
            " 11  key_confidence            7574 non-null   float64\n",
            " 12  energy                    7574 non-null   float64\n",
            " 13  pitch                     7574 non-null   float64\n",
            " 14  Top10                     7574 non-null   int64  \n",
            "dtypes: float64(7), int64(4), object(4)\n",
            "memory usage: 887.7+ KB\n"
          ]
        }
      ]
    },
    {
      "cell_type": "code",
      "source": [
        "df['Top10'].unique()"
      ],
      "metadata": {
        "colab": {
          "base_uri": "https://localhost:8080/"
        },
        "id": "Bf3x1pmRXD4Y",
        "outputId": "f36e07a6-add9-4c79-f71c-1ac166ad7646"
      },
      "execution_count": null,
      "outputs": [
        {
          "output_type": "execute_result",
          "data": {
            "text/plain": [
              "array([0, 1])"
            ]
          },
          "metadata": {},
          "execution_count": 8
        }
      ]
    },
    {
      "cell_type": "code",
      "source": [
        "plt.figure(figsize=(12,8))\n",
        "sns.heatmap(df.isnull(),cbar=False)"
      ],
      "metadata": {
        "colab": {
          "base_uri": "https://localhost:8080/",
          "height": 866
        },
        "id": "i8hYrLuSXHCe",
        "outputId": "732c7053-60b5-46ee-cc3e-65655f68445c"
      },
      "execution_count": null,
      "outputs": [
        {
          "output_type": "execute_result",
          "data": {
            "text/plain": [
              "<Axes: >"
            ]
          },
          "metadata": {},
          "execution_count": 9
        },
        {
          "output_type": "display_data",
          "data": {
            "text/plain": [
              "<Figure size 1200x800 with 1 Axes>"
            ],
            "image/png": "[encoded data removed]"
          },
          "metadata": {}
        }
      ]
    },
    {
      "cell_type": "code",
      "source": [
        "x = df.iloc[:, :-1]\n",
        "y = pd.DataFrame(df['Top10'])"
      ],
      "metadata": {
        "id": "2QZDa5AsXL2L"
      },
      "execution_count": null,
      "outputs": []
    },
    {
      "cell_type": "code",
      "source": [
        "x.head()"
      ],
      "metadata": {
        "colab": {
          "base_uri": "https://localhost:8080/",
          "height": 330
        },
        "id": "dT1GvzW1pShj",
        "outputId": "18a9d541-b3f8-4de5-c584-c8cb3b5adf26"
      },
      "execution_count": null,
      "outputs": [
        {
          "output_type": "execute_result",
          "data": {
            "text/plain": [
              "   year                           songtitle         artistname  \\\n",
              "0  2010  This Is the House That Doubt Built  A Day to Remember   \n",
              "1  2010                     Sticks & Bricks  A Day to Remember   \n",
              "2  2010                          All I Want  A Day to Remember   \n",
              "3  2010                    It's Complicated  A Day to Remember   \n",
              "4  2010                           2nd Sucks  A Day to Remember   \n",
              "\n",
              "               songID            artistID  timesignature  \\\n",
              "0  SOBGGAB12C5664F054  AROBSHL1187B9AFB01              3   \n",
              "1  SOPAQHU1315CD47F31  AROBSHL1187B9AFB01              4   \n",
              "2  SOOIZOU1376E7C6386  AROBSHL1187B9AFB01              4   \n",
              "3  SODRYWD1315CD49DBE  AROBSHL1187B9AFB01              4   \n",
              "4  SOICMQB1315CD46EE3  AROBSHL1187B9AFB01              4   \n",
              "\n",
              "   timesignature_confidence  loudness    tempo  tempo_confidence  key  \\\n",
              "0                     0.853    -4.262   91.525             0.953   11   \n",
              "1                     1.000    -4.051  140.048             0.921   10   \n",
              "2                     1.000    -3.571  160.512             0.489    2   \n",
              "3                     1.000    -3.815   97.525             0.794    1   \n",
              "4                     0.788    -4.707  140.053             0.286    6   \n",
              "\n",
              "   key_confidence    energy  pitch  \n",
              "0           0.453  0.966656  0.024  \n",
              "1           0.469  0.984710  0.025  \n",
              "2           0.209  0.989900  0.026  \n",
              "3           0.632  0.939207  0.013  \n",
              "4           0.483  0.987738  0.063  "
            ],
            "text/html": [
              "\n",
              "  <div id=\"df-102b95ef-4d92-48e7-b3f4-963b51b73a18\" class=\"colab-df-container\">\n",
              "    <div>\n",
              "<style scoped>\n",
              "    .dataframe tbody tr th:only-of-type {\n",
              "        vertical-align: middle;\n",
              "    }\n",
              "\n",
              "    .dataframe tbody tr th {\n",
              "        vertical-align: top;\n",
              "    }\n",
              "\n",
              "    .dataframe thead th {\n",
              "        text-align: right;\n",
              "    }\n",
              "</style>\n",
              "<table border=\"1\" class=\"dataframe\">\n",
              "  <thead>\n",
              "    <tr style=\"text-align: right;\">\n",
              "      <th></th>\n",
              "      <th>year</th>\n",
              "      <th>songtitle</th>\n",
              "      <th>artistname</th>\n",
              "      <th>songID</th>\n",
              "      <th>artistID</th>\n",
              "      <th>timesignature</th>\n",
              "      <th>timesignature_confidence</th>\n",
              "      <th>loudness</th>\n",
              "      <th>tempo</th>\n",
              "      <th>tempo_confidence</th>\n",
              "      <th>key</th>\n",
              "      <th>key_confidence</th>\n",
              "      <th>energy</th>\n",
              "      <th>pitch</th>\n",
              "    </tr>\n",
              "  </thead>\n",
              "  <tbody>\n",
              "    <tr>\n",
              "      <th>0</th>\n",
              "      <td>2010</td>\n",
              "      <td>This Is the House That Doubt Built</td>\n",
              "      <td>A Day to Remember</td>\n",
              "      <td>SOBGGAB12C5664F054</td>\n",
              "      <td>AROBSHL1187B9AFB01</td>\n",
              "      <td>3</td>\n",
              "      <td>0.853</td>\n",
              "      <td>-4.262</td>\n",
              "      <td>91.525</td>\n",
              "      <td>0.953</td>\n",
              "      <td>11</td>\n",
              "      <td>0.453</td>\n",
              "      <td>0.966656</td>\n",
              "      <td>0.024</td>\n",
              "    </tr>\n",
              "    <tr>\n",
              "      <th>1</th>\n",
              "      <td>2010</td>\n",
              "      <td>Sticks &amp; Bricks</td>\n",
              "      <td>A Day to Remember</td>\n",
              "      <td>SOPAQHU1315CD47F31</td>\n",
              "      <td>AROBSHL1187B9AFB01</td>\n",
              "      <td>4</td>\n",
              "      <td>1.000</td>\n",
              "      <td>-4.051</td>\n",
              "      <td>140.048</td>\n",
              "      <td>0.921</td>\n",
              "      <td>10</td>\n",
              "      <td>0.469</td>\n",
              "      <td>0.984710</td>\n",
              "      <td>0.025</td>\n",
              "    </tr>\n",
              "    <tr>\n",
              "      <th>2</th>\n",
              "      <td>2010</td>\n",
              "      <td>All I Want</td>\n",
              "      <td>A Day to Remember</td>\n",
              "      <td>SOOIZOU1376E7C6386</td>\n",
              "      <td>AROBSHL1187B9AFB01</td>\n",
              "      <td>4</td>\n",
              "      <td>1.000</td>\n",
              "      <td>-3.571</td>\n",
              "      <td>160.512</td>\n",
              "      <td>0.489</td>\n",
              "      <td>2</td>\n",
              "      <td>0.209</td>\n",
              "      <td>0.989900</td>\n",
              "      <td>0.026</td>\n",
              "    </tr>\n",
              "    <tr>\n",
              "      <th>3</th>\n",
              "      <td>2010</td>\n",
              "      <td>It's Complicated</td>\n",
              "      <td>A Day to Remember</td>\n",
              "      <td>SODRYWD1315CD49DBE</td>\n",
              "      <td>AROBSHL1187B9AFB01</td>\n",
              "      <td>4</td>\n",
              "      <td>1.000</td>\n",
              "      <td>-3.815</td>\n",
              "      <td>97.525</td>\n",
              "      <td>0.794</td>\n",
              "      <td>1</td>\n",
              "      <td>0.632</td>\n",
              "      <td>0.939207</td>\n",
              "      <td>0.013</td>\n",
              "    </tr>\n",
              "    <tr>\n",
              "      <th>4</th>\n",
              "      <td>2010</td>\n",
              "      <td>2nd Sucks</td>\n",
              "      <td>A Day to Remember</td>\n",
              "      <td>SOICMQB1315CD46EE3</td>\n",
              "      <td>AROBSHL1187B9AFB01</td>\n",
              "      <td>4</td>\n",
              "      <td>0.788</td>\n",
              "      <td>-4.707</td>\n",
              "      <td>140.053</td>\n",
              "      <td>0.286</td>\n",
              "      <td>6</td>\n",
              "      <td>0.483</td>\n",
              "      <td>0.987738</td>\n",
              "      <td>0.063</td>\n",
              "    </tr>\n",
              "  </tbody>\n",
              "</table>\n",
              "</div>\n",
              "    <div class=\"colab-df-buttons\">\n",
              "\n",
              "  <div class=\"colab-df-container\">\n",
              "    <button class=\"colab-df-convert\" onclick=\"convertToInteractive('df-102b95ef-4d92-48e7-b3f4-963b51b73a18')\"\n",
              "            title=\"Convert this dataframe to an interactive table.\"\n",
              "            style=\"display:none;\">\n",
              "\n",
              "  <svg xmlns=\"http://www.w3.org/2000/svg\" height=\"24px\" viewBox=\"0 -960 960 960\">\n",
              "    <path d=\"M120-120v-720h720v720H120Zm60-500h600v-160H180v160Zm220 220h160v-160H400v160Zm0 220h160v-160H400v160ZM180-400h160v-160H180v160Zm440 0h160v-160H620v160ZM180-180h160v-160H180v160Zm440 0h160v-160H620v160Z\"/>\n",
              "  </svg>\n",
              "    </button>\n",
              "\n",
              "  <style>\n",
              "    .colab-df-container {\n",
              "      display:flex;\n",
              "      gap: 12px;\n",
              "    }\n",
              "\n",
              "    .colab-df-convert {\n",
              "      background-color: #E8F0FE;\n",
              "      border: none;\n",
              "      border-radius: 50%;\n",
              "      cursor: pointer;\n",
              "      display: none;\n",
              "      fill: #1967D2;\n",
              "      height: 32px;\n",
              "      padding: 0 0 0 0;\n",
              "      width: 32px;\n",
              "    }\n",
              "\n",
              "    .colab-df-convert:hover {\n",
              "      background-color: #E2EBFA;\n",
              "      box-shadow: 0px 1px 2px rgba(60, 64, 67, 0.3), 0px 1px 3px 1px rgba(60, 64, 67, 0.15);\n",
              "      fill: #174EA6;\n",
              "    }\n",
              "\n",
              "    .colab-df-buttons div {\n",
              "      margin-bottom: 4px;\n",
              "    }\n",
              "\n",
              "    [theme=dark] .colab-df-convert {\n",
              "      background-color: #3B4455;\n",
              "      fill: #D2E3FC;\n",
              "    }\n",
              "\n",
              "    [theme=dark] .colab-df-convert:hover {\n",
              "      background-color: #434B5C;\n",
              "      box-shadow: 0px 1px 3px 1px rgba(0, 0, 0, 0.15);\n",
              "      filter: drop-shadow(0px 1px 2px rgba(0, 0, 0, 0.3));\n",
              "      fill: #FFFFFF;\n",
              "    }\n",
              "  </style>\n",
              "\n",
              "    <script>\n",
              "      const buttonEl =\n",
              "        document.querySelector('#df-102b95ef-4d92-48e7-b3f4-963b51b73a18 button.colab-df-convert');\n",
              "      buttonEl.style.display =\n",
              "        google.colab.kernel.accessAllowed ? 'block' : 'none';\n",
              "\n",
              "      async function convertToInteractive(key) {\n",
              "        const element = document.querySelector('#df-102b95ef-4d92-48e7-b3f4-963b51b73a18');\n",
              "        const dataTable =\n",
              "          await google.colab.kernel.invokeFunction('convertToInteractive',\n",
              "                                                    [key], {});\n",
              "        if (!dataTable) return;\n",
              "\n",
              "        const docLinkHtml = 'Like what you see? Visit the ' +\n",
              "          '<a target=\"_blank\" href=https://colab.research.google.com/notebooks/data_table.ipynb>data table notebook</a>'\n",
              "          + ' to learn more about interactive tables.';\n",
              "        element.innerHTML = '';\n",
              "        dataTable['output_type'] = 'display_data';\n",
              "        await google.colab.output.renderOutput(dataTable, element);\n",
              "        const docLink = document.createElement('div');\n",
              "        docLink.innerHTML = docLinkHtml;\n",
              "        element.appendChild(docLink);\n",
              "      }\n",
              "    </script>\n",
              "  </div>\n",
              "\n",
              "\n",
              "<div id=\"df-f89b97f1-c5e5-4b2e-9a73-ef0b9eb1970b\">\n",
              "  <button class=\"colab-df-quickchart\" onclick=\"quickchart('df-f89b97f1-c5e5-4b2e-9a73-ef0b9eb1970b')\"\n",
              "            title=\"Suggest charts\"\n",
              "            style=\"display:none;\">\n",
              "\n",
              "<svg xmlns=\"http://www.w3.org/2000/svg\" height=\"24px\"viewBox=\"0 0 24 24\"\n",
              "     width=\"24px\">\n",
              "    <g>\n",
              "        <path d=\"M19 3H5c-1.1 0-2 .9-2 2v14c0 1.1.9 2 2 2h14c1.1 0 2-.9 2-2V5c0-1.1-.9-2-2-2zM9 17H7v-7h2v7zm4 0h-2V7h2v10zm4 0h-2v-4h2v4z\"/>\n",
              "    </g>\n",
              "</svg>\n",
              "  </button>\n",
              "\n",
              "<style>\n",
              "  .colab-df-quickchart {\n",
              "      --bg-color: #E8F0FE;\n",
              "      --fill-color: #1967D2;\n",
              "      --hover-bg-color: #E2EBFA;\n",
              "      --hover-fill-color: #174EA6;\n",
              "      --disabled-fill-color: #AAA;\n",
              "      --disabled-bg-color: #DDD;\n",
              "  }\n",
              "\n",
              "  [theme=dark] .colab-df-quickchart {\n",
              "      --bg-color: #3B4455;\n",
              "      --fill-color: #D2E3FC;\n",
              "      --hover-bg-color: #434B5C;\n",
              "      --hover-fill-color: #FFFFFF;\n",
              "      --disabled-bg-color: #3B4455;\n",
              "      --disabled-fill-color: #666;\n",
              "  }\n",
              "\n",
              "  .colab-df-quickchart {\n",
              "    background-color: var(--bg-color);\n",
              "    border: none;\n",
              "    border-radius: 50%;\n",
              "    cursor: pointer;\n",
              "    display: none;\n",
              "    fill: var(--fill-color);\n",
              "    height: 32px;\n",
              "    padding: 0;\n",
              "    width: 32px;\n",
              "  }\n",
              "\n",
              "  .colab-df-quickchart:hover {\n",
              "    background-color: var(--hover-bg-color);\n",
              "    box-shadow: 0 1px 2px rgba(60, 64, 67, 0.3), 0 1px 3px 1px rgba(60, 64, 67, 0.15);\n",
              "    fill: var(--button-hover-fill-color);\n",
              "  }\n",
              "\n",
              "  .colab-df-quickchart-complete:disabled,\n",
              "  .colab-df-quickchart-complete:disabled:hover {\n",
              "    background-color: var(--disabled-bg-color);\n",
              "    fill: var(--disabled-fill-color);\n",
              "    box-shadow: none;\n",
              "  }\n",
              "\n",
              "  .colab-df-spinner {\n",
              "    border: 2px solid var(--fill-color);\n",
              "    border-color: transparent;\n",
              "    border-bottom-color: var(--fill-color);\n",
              "    animation:\n",
              "      spin 1s steps(1) infinite;\n",
              "  }\n",
              "\n",
              "  @keyframes spin {\n",
              "    0% {\n",
              "      border-color: transparent;\n",
              "      border-bottom-color: var(--fill-color);\n",
              "      border-left-color: var(--fill-color);\n",
              "    }\n",
              "    20% {\n",
              "      border-color: transparent;\n",
              "      border-left-color: var(--fill-color);\n",
              "      border-top-color: var(--fill-color);\n",
              "    }\n",
              "    30% {\n",
              "      border-color: transparent;\n",
              "      border-left-color: var(--fill-color);\n",
              "      border-top-color: var(--fill-color);\n",
              "      border-right-color: var(--fill-color);\n",
              "    }\n",
              "    40% {\n",
              "      border-color: transparent;\n",
              "      border-right-color: var(--fill-color);\n",
              "      border-top-color: var(--fill-color);\n",
              "    }\n",
              "    60% {\n",
              "      border-color: transparent;\n",
              "      border-right-color: var(--fill-color);\n",
              "    }\n",
              "    80% {\n",
              "      border-color: transparent;\n",
              "      border-right-color: var(--fill-color);\n",
              "      border-bottom-color: var(--fill-color);\n",
              "    }\n",
              "    90% {\n",
              "      border-color: transparent;\n",
              "      border-bottom-color: var(--fill-color);\n",
              "    }\n",
              "  }\n",
              "</style>\n",
              "\n",
              "  <script>\n",
              "    async function quickchart(key) {\n",
              "      const quickchartButtonEl =\n",
              "        document.querySelector('#' + key + ' button');\n",
              "      quickchartButtonEl.disabled = true;  // To prevent multiple clicks.\n",
              "      quickchartButtonEl.classList.add('colab-df-spinner');\n",
              "      try {\n",
              "        const charts = await google.colab.kernel.invokeFunction(\n",
              "            'suggestCharts', [key], {});\n",
              "      } catch (error) {\n",
              "        console.error('Error during call to suggestCharts:', error);\n",
              "      }\n",
              "      quickchartButtonEl.classList.remove('colab-df-spinner');\n",
              "      quickchartButtonEl.classList.add('colab-df-quickchart-complete');\n",
              "    }\n",
              "    (() => {\n",
              "      let quickchartButtonEl =\n",
              "        document.querySelector('#df-f89b97f1-c5e5-4b2e-9a73-ef0b9eb1970b button');\n",
              "      quickchartButtonEl.style.display =\n",
              "        google.colab.kernel.accessAllowed ? 'block' : 'none';\n",
              "    })();\n",
              "  </script>\n",
              "</div>\n",
              "    </div>\n",
              "  </div>\n"
            ]
          },
          "metadata": {},
          "execution_count": 11
        }
      ]
    },
    {
      "cell_type": "code",
      "source": [
        "x = x.drop(['songID', 'artistID',\n",
        "            'artistname', 'timesignature_confidence', 'tempo_confidence', 'key_confidence', 'pitch', 'year' ], axis=1, inplace=False)\n"
      ],
      "metadata": {
        "id": "7_tm-sscXWXY"
      },
      "execution_count": null,
      "outputs": []
    },
    {
      "cell_type": "code",
      "source": [
        "x.head"
      ],
      "metadata": {
        "colab": {
          "base_uri": "https://localhost:8080/"
        },
        "id": "OZ2YKjbZujSL",
        "outputId": "957c7231-a0b3-4436-8b9f-72fd6a1fef0f"
      },
      "execution_count": null,
      "outputs": [
        {
          "output_type": "execute_result",
          "data": {
            "text/plain": [
              "<bound method NDFrame.head of                                songtitle  timesignature  loudness    tempo  \\\n",
              "0     This Is the House That Doubt Built              3    -4.262   91.525   \n",
              "1                        Sticks & Bricks              4    -4.051  140.048   \n",
              "2                             All I Want              4    -3.571  160.512   \n",
              "3                       It's Complicated              4    -3.815   97.525   \n",
              "4                              2nd Sucks              4    -4.707  140.053   \n",
              "...                                  ...            ...       ...      ...   \n",
              "7569                          She's Gone              4   -10.197   93.140   \n",
              "7570                          Let It Out              4   -12.392   79.858   \n",
              "7571                          Ten Lovers              4   -10.304   91.760   \n",
              "7572              Goin' Off The Deep End              4    -9.295  110.907   \n",
              "7573                           Surrender              4    -9.762  139.650   \n",
              "\n",
              "      key    energy  \n",
              "0      11  0.966656  \n",
              "1      10  0.984710  \n",
              "2       2  0.989900  \n",
              "3       1  0.939207  \n",
              "4       6  0.987738  \n",
              "...   ...       ...  \n",
              "7569    5  0.942992  \n",
              "7570    9  0.812422  \n",
              "7571    2  0.736871  \n",
              "7572    9  0.990053  \n",
              "7573    6  0.944823  \n",
              "\n",
              "[7574 rows x 6 columns]>"
            ]
          },
          "metadata": {},
          "execution_count": 13
        }
      ]
    },
    {
      "cell_type": "markdown",
      "source": [
        "# Encode the Strings"
      ],
      "metadata": {
        "id": "qR78dV4wEKiE"
      }
    },
    {
      "cell_type": "code",
      "source": [
        "import pandas as pd\n",
        "from sklearn.preprocessing import LabelEncoder, StandardScaler\n",
        "\n",
        "# Check data types of all columns\n",
        "print(x.dtypes)\n",
        "\n",
        "# If any columns are of object type (likely strings), encode or remove them\n",
        "encoder = LabelEncoder()\n",
        "for col in x.columns:\n",
        "    if x[col].dtype == 'object':\n",
        "        x[col] = encoder.fit_transform(x[col])\n",
        "\n",
        "# Create an instance of StandardScaler\n",
        "sc = StandardScaler()\n",
        "\n",
        "# Now scale the DataFrame\n",
        "x_scaled = sc.fit_transform(x)\n",
        "\n",
        "# If you need to convert the scaled data back to a DataFrame:\n",
        "x_scaled_df = pd.DataFrame(x_scaled, columns=x.columns)\n"
      ],
      "metadata": {
        "colab": {
          "base_uri": "https://localhost:8080/"
        },
        "id": "ICagevUzXyYg",
        "outputId": "4a4b89ff-d40e-464c-d8a9-18dd890e0776"
      },
      "execution_count": null,
      "outputs": [
        {
          "output_type": "stream",
          "name": "stdout",
          "text": [
            "songtitle         object\n",
            "timesignature      int64\n",
            "loudness         float64\n",
            "tempo            float64\n",
            "key                int64\n",
            "energy           float64\n",
            "dtype: object\n"
          ]
        }
      ]
    },
    {
      "cell_type": "code",
      "source": [
        "pd.DataFrame(x_scaled)"
      ],
      "metadata": {
        "colab": {
          "base_uri": "https://localhost:8080/",
          "height": 424
        },
        "id": "ztW8_di1sYhg",
        "outputId": "b5b4236a-c241-47fa-cd4a-e010ecfb44d5"
      },
      "execution_count": null,
      "outputs": [
        {
          "output_type": "execute_result",
          "data": {
            "text/plain": [
              "             0         1         2         3         4         5\n",
              "0     1.282205 -1.678752  1.040777 -0.641569  1.571908  1.196040\n",
              "1     0.946029  0.199090  1.088986  1.325840  1.291980  1.270197\n",
              "2    -1.619502  0.199090  1.198655  2.155572 -0.947447  1.291519\n",
              "3    -0.225730  0.199090  1.142907 -0.398293 -1.227375  1.083296\n",
              "4    -1.712776  0.199090  0.939104  1.326043  0.172266  1.282635\n",
              "...        ...       ...       ...       ...       ...       ...\n",
              "7569  0.771625  0.199090 -0.315240 -0.576087 -0.107662  1.098841\n",
              "7570 -0.075617  0.199090 -0.816749 -1.114618  1.012051  0.562524\n",
              "7571  1.053877  0.199090 -0.339687 -0.632040 -0.947447  0.252200\n",
              "7572 -0.670727  0.199090 -0.109153  0.144292  1.012051  1.292146\n",
              "7573  1.001896  0.199090 -0.215852  1.309703  0.172266  1.106362\n",
              "\n",
              "[7574 rows x 6 columns]"
            ],
            "text/html": [
              "\n",
              "  <div id=\"df-7c9c1ec2-2901-413a-a58a-e6d780a4518b\" class=\"colab-df-container\">\n",
              "    <div>\n",
              "<style scoped>\n",
              "    .dataframe tbody tr th:only-of-type {\n",
              "        vertical-align: middle;\n",
              "    }\n",
              "\n",
              "    .dataframe tbody tr th {\n",
              "        vertical-align: top;\n",
              "    }\n",
              "\n",
              "    .dataframe thead th {\n",
              "        text-align: right;\n",
              "    }\n",
              "</style>\n",
              "<table border=\"1\" class=\"dataframe\">\n",
              "  <thead>\n",
              "    <tr style=\"text-align: right;\">\n",
              "      <th></th>\n",
              "      <th>0</th>\n",
              "      <th>1</th>\n",
              "      <th>2</th>\n",
              "      <th>3</th>\n",
              "      <th>4</th>\n",
              "      <th>5</th>\n",
              "    </tr>\n",
              "  </thead>\n",
              "  <tbody>\n",
              "    <tr>\n",
              "      <th>0</th>\n",
              "      <td>1.282205</td>\n",
              "      <td>-1.678752</td>\n",
              "      <td>1.040777</td>\n",
              "      <td>-0.641569</td>\n",
              "      <td>1.571908</td>\n",
              "      <td>1.196040</td>\n",
              "    </tr>\n",
              "    <tr>\n",
              "      <th>1</th>\n",
              "      <td>0.946029</td>\n",
              "      <td>0.199090</td>\n",
              "      <td>1.088986</td>\n",
              "      <td>1.325840</td>\n",
              "      <td>1.291980</td>\n",
              "      <td>1.270197</td>\n",
              "    </tr>\n",
              "    <tr>\n",
              "      <th>2</th>\n",
              "      <td>-1.619502</td>\n",
              "      <td>0.199090</td>\n",
              "      <td>1.198655</td>\n",
              "      <td>2.155572</td>\n",
              "      <td>-0.947447</td>\n",
              "      <td>1.291519</td>\n",
              "    </tr>\n",
              "    <tr>\n",
              "      <th>3</th>\n",
              "      <td>-0.225730</td>\n",
              "      <td>0.199090</td>\n",
              "      <td>1.142907</td>\n",
              "      <td>-0.398293</td>\n",
              "      <td>-1.227375</td>\n",
              "      <td>1.083296</td>\n",
              "    </tr>\n",
              "    <tr>\n",
              "      <th>4</th>\n",
              "      <td>-1.712776</td>\n",
              "      <td>0.199090</td>\n",
              "      <td>0.939104</td>\n",
              "      <td>1.326043</td>\n",
              "      <td>0.172266</td>\n",
              "      <td>1.282635</td>\n",
              "    </tr>\n",
              "    <tr>\n",
              "      <th>...</th>\n",
              "      <td>...</td>\n",
              "      <td>...</td>\n",
              "      <td>...</td>\n",
              "      <td>...</td>\n",
              "      <td>...</td>\n",
              "      <td>...</td>\n",
              "    </tr>\n",
              "    <tr>\n",
              "      <th>7569</th>\n",
              "      <td>0.771625</td>\n",
              "      <td>0.199090</td>\n",
              "      <td>-0.315240</td>\n",
              "      <td>-0.576087</td>\n",
              "      <td>-0.107662</td>\n",
              "      <td>1.098841</td>\n",
              "    </tr>\n",
              "    <tr>\n",
              "      <th>7570</th>\n",
              "      <td>-0.075617</td>\n",
              "      <td>0.199090</td>\n",
              "      <td>-0.816749</td>\n",
              "      <td>-1.114618</td>\n",
              "      <td>1.012051</td>\n",
              "      <td>0.562524</td>\n",
              "    </tr>\n",
              "    <tr>\n",
              "      <th>7571</th>\n",
              "      <td>1.053877</td>\n",
              "      <td>0.199090</td>\n",
              "      <td>-0.339687</td>\n",
              "      <td>-0.632040</td>\n",
              "      <td>-0.947447</td>\n",
              "      <td>0.252200</td>\n",
              "    </tr>\n",
              "    <tr>\n",
              "      <th>7572</th>\n",
              "      <td>-0.670727</td>\n",
              "      <td>0.199090</td>\n",
              "      <td>-0.109153</td>\n",
              "      <td>0.144292</td>\n",
              "      <td>1.012051</td>\n",
              "      <td>1.292146</td>\n",
              "    </tr>\n",
              "    <tr>\n",
              "      <th>7573</th>\n",
              "      <td>1.001896</td>\n",
              "      <td>0.199090</td>\n",
              "      <td>-0.215852</td>\n",
              "      <td>1.309703</td>\n",
              "      <td>0.172266</td>\n",
              "      <td>1.106362</td>\n",
              "    </tr>\n",
              "  </tbody>\n",
              "</table>\n",
              "<p>7574 rows × 6 columns</p>\n",
              "</div>\n",
              "    <div class=\"colab-df-buttons\">\n",
              "\n",
              "  <div class=\"colab-df-container\">\n",
              "    <button class=\"colab-df-convert\" onclick=\"convertToInteractive('df-7c9c1ec2-2901-413a-a58a-e6d780a4518b')\"\n",
              "            title=\"Convert this dataframe to an interactive table.\"\n",
              "            style=\"display:none;\">\n",
              "\n",
              "  <svg xmlns=\"http://www.w3.org/2000/svg\" height=\"24px\" viewBox=\"0 -960 960 960\">\n",
              "    <path d=\"M120-120v-720h720v720H120Zm60-500h600v-160H180v160Zm220 220h160v-160H400v160Zm0 220h160v-160H400v160ZM180-400h160v-160H180v160Zm440 0h160v-160H620v160ZM180-180h160v-160H180v160Zm440 0h160v-160H620v160Z\"/>\n",
              "  </svg>\n",
              "    </button>\n",
              "\n",
              "  <style>\n",
              "    .colab-df-container {\n",
              "      display:flex;\n",
              "      gap: 12px;\n",
              "    }\n",
              "\n",
              "    .colab-df-convert {\n",
              "      background-color: #E8F0FE;\n",
              "      border: none;\n",
              "      border-radius: 50%;\n",
              "      cursor: pointer;\n",
              "      display: none;\n",
              "      fill: #1967D2;\n",
              "      height: 32px;\n",
              "      padding: 0 0 0 0;\n",
              "      width: 32px;\n",
              "    }\n",
              "\n",
              "    .colab-df-convert:hover {\n",
              "      background-color: #E2EBFA;\n",
              "      box-shadow: 0px 1px 2px rgba(60, 64, 67, 0.3), 0px 1px 3px 1px rgba(60, 64, 67, 0.15);\n",
              "      fill: #174EA6;\n",
              "    }\n",
              "\n",
              "    .colab-df-buttons div {\n",
              "      margin-bottom: 4px;\n",
              "    }\n",
              "\n",
              "    [theme=dark] .colab-df-convert {\n",
              "      background-color: #3B4455;\n",
              "      fill: #D2E3FC;\n",
              "    }\n",
              "\n",
              "    [theme=dark] .colab-df-convert:hover {\n",
              "      background-color: #434B5C;\n",
              "      box-shadow: 0px 1px 3px 1px rgba(0, 0, 0, 0.15);\n",
              "      filter: drop-shadow(0px 1px 2px rgba(0, 0, 0, 0.3));\n",
              "      fill: #FFFFFF;\n",
              "    }\n",
              "  </style>\n",
              "\n",
              "    <script>\n",
              "      const buttonEl =\n",
              "        document.querySelector('#df-7c9c1ec2-2901-413a-a58a-e6d780a4518b button.colab-df-convert');\n",
              "      buttonEl.style.display =\n",
              "        google.colab.kernel.accessAllowed ? 'block' : 'none';\n",
              "\n",
              "      async function convertToInteractive(key) {\n",
              "        const element = document.querySelector('#df-7c9c1ec2-2901-413a-a58a-e6d780a4518b');\n",
              "        const dataTable =\n",
              "          await google.colab.kernel.invokeFunction('convertToInteractive',\n",
              "                                                    [key], {});\n",
              "        if (!dataTable) return;\n",
              "\n",
              "        const docLinkHtml = 'Like what you see? Visit the ' +\n",
              "          '<a target=\"_blank\" href=https://colab.research.google.com/notebooks/data_table.ipynb>data table notebook</a>'\n",
              "          + ' to learn more about interactive tables.';\n",
              "        element.innerHTML = '';\n",
              "        dataTable['output_type'] = 'display_data';\n",
              "        await google.colab.output.renderOutput(dataTable, element);\n",
              "        const docLink = document.createElement('div');\n",
              "        docLink.innerHTML = docLinkHtml;\n",
              "        element.appendChild(docLink);\n",
              "      }\n",
              "    </script>\n",
              "  </div>\n",
              "\n",
              "\n",
              "<div id=\"df-cb448fe9-95eb-47b0-a517-86bb33d6e269\">\n",
              "  <button class=\"colab-df-quickchart\" onclick=\"quickchart('df-cb448fe9-95eb-47b0-a517-86bb33d6e269')\"\n",
              "            title=\"Suggest charts\"\n",
              "            style=\"display:none;\">\n",
              "\n",
              "<svg xmlns=\"http://www.w3.org/2000/svg\" height=\"24px\"viewBox=\"0 0 24 24\"\n",
              "     width=\"24px\">\n",
              "    <g>\n",
              "        <path d=\"M19 3H5c-1.1 0-2 .9-2 2v14c0 1.1.9 2 2 2h14c1.1 0 2-.9 2-2V5c0-1.1-.9-2-2-2zM9 17H7v-7h2v7zm4 0h-2V7h2v10zm4 0h-2v-4h2v4z\"/>\n",
              "    </g>\n",
              "</svg>\n",
              "  </button>\n",
              "\n",
              "<style>\n",
              "  .colab-df-quickchart {\n",
              "      --bg-color: #E8F0FE;\n",
              "      --fill-color: #1967D2;\n",
              "      --hover-bg-color: #E2EBFA;\n",
              "      --hover-fill-color: #174EA6;\n",
              "      --disabled-fill-color: #AAA;\n",
              "      --disabled-bg-color: #DDD;\n",
              "  }\n",
              "\n",
              "  [theme=dark] .colab-df-quickchart {\n",
              "      --bg-color: #3B4455;\n",
              "      --fill-color: #D2E3FC;\n",
              "      --hover-bg-color: #434B5C;\n",
              "      --hover-fill-color: #FFFFFF;\n",
              "      --disabled-bg-color: #3B4455;\n",
              "      --disabled-fill-color: #666;\n",
              "  }\n",
              "\n",
              "  .colab-df-quickchart {\n",
              "    background-color: var(--bg-color);\n",
              "    border: none;\n",
              "    border-radius: 50%;\n",
              "    cursor: pointer;\n",
              "    display: none;\n",
              "    fill: var(--fill-color);\n",
              "    height: 32px;\n",
              "    padding: 0;\n",
              "    width: 32px;\n",
              "  }\n",
              "\n",
              "  .colab-df-quickchart:hover {\n",
              "    background-color: var(--hover-bg-color);\n",
              "    box-shadow: 0 1px 2px rgba(60, 64, 67, 0.3), 0 1px 3px 1px rgba(60, 64, 67, 0.15);\n",
              "    fill: var(--button-hover-fill-color);\n",
              "  }\n",
              "\n",
              "  .colab-df-quickchart-complete:disabled,\n",
              "  .colab-df-quickchart-complete:disabled:hover {\n",
              "    background-color: var(--disabled-bg-color);\n",
              "    fill: var(--disabled-fill-color);\n",
              "    box-shadow: none;\n",
              "  }\n",
              "\n",
              "  .colab-df-spinner {\n",
              "    border: 2px solid var(--fill-color);\n",
              "    border-color: transparent;\n",
              "    border-bottom-color: var(--fill-color);\n",
              "    animation:\n",
              "      spin 1s steps(1) infinite;\n",
              "  }\n",
              "\n",
              "  @keyframes spin {\n",
              "    0% {\n",
              "      border-color: transparent;\n",
              "      border-bottom-color: var(--fill-color);\n",
              "      border-left-color: var(--fill-color);\n",
              "    }\n",
              "    20% {\n",
              "      border-color: transparent;\n",
              "      border-left-color: var(--fill-color);\n",
              "      border-top-color: var(--fill-color);\n",
              "    }\n",
              "    30% {\n",
              "      border-color: transparent;\n",
              "      border-left-color: var(--fill-color);\n",
              "      border-top-color: var(--fill-color);\n",
              "      border-right-color: var(--fill-color);\n",
              "    }\n",
              "    40% {\n",
              "      border-color: transparent;\n",
              "      border-right-color: var(--fill-color);\n",
              "      border-top-color: var(--fill-color);\n",
              "    }\n",
              "    60% {\n",
              "      border-color: transparent;\n",
              "      border-right-color: var(--fill-color);\n",
              "    }\n",
              "    80% {\n",
              "      border-color: transparent;\n",
              "      border-right-color: var(--fill-color);\n",
              "      border-bottom-color: var(--fill-color);\n",
              "    }\n",
              "    90% {\n",
              "      border-color: transparent;\n",
              "      border-bottom-color: var(--fill-color);\n",
              "    }\n",
              "  }\n",
              "</style>\n",
              "\n",
              "  <script>\n",
              "    async function quickchart(key) {\n",
              "      const quickchartButtonEl =\n",
              "        document.querySelector('#' + key + ' button');\n",
              "      quickchartButtonEl.disabled = true;  // To prevent multiple clicks.\n",
              "      quickchartButtonEl.classList.add('colab-df-spinner');\n",
              "      try {\n",
              "        const charts = await google.colab.kernel.invokeFunction(\n",
              "            'suggestCharts', [key], {});\n",
              "      } catch (error) {\n",
              "        console.error('Error during call to suggestCharts:', error);\n",
              "      }\n",
              "      quickchartButtonEl.classList.remove('colab-df-spinner');\n",
              "      quickchartButtonEl.classList.add('colab-df-quickchart-complete');\n",
              "    }\n",
              "    (() => {\n",
              "      let quickchartButtonEl =\n",
              "        document.querySelector('#df-cb448fe9-95eb-47b0-a517-86bb33d6e269 button');\n",
              "      quickchartButtonEl.style.display =\n",
              "        google.colab.kernel.accessAllowed ? 'block' : 'none';\n",
              "    })();\n",
              "  </script>\n",
              "</div>\n",
              "    </div>\n",
              "  </div>\n"
            ]
          },
          "metadata": {},
          "execution_count": 15
        }
      ]
    },
    {
      "cell_type": "markdown",
      "source": [
        "# Standard Scale and Look at Correlations"
      ],
      "metadata": {
        "id": "gSpTqH0gEVFH"
      }
    },
    {
      "cell_type": "code",
      "source": [
        "x.columns"
      ],
      "metadata": {
        "colab": {
          "base_uri": "https://localhost:8080/"
        },
        "id": "MxggLSlG1Wa_",
        "outputId": "ade81ccd-7de9-484b-af65-f800597fcab1"
      },
      "execution_count": null,
      "outputs": [
        {
          "output_type": "execute_result",
          "data": {
            "text/plain": [
              "Index(['songtitle', 'timesignature', 'loudness', 'tempo', 'key', 'energy'], dtype='object')"
            ]
          },
          "metadata": {},
          "execution_count": 16
        }
      ]
    },
    {
      "cell_type": "code",
      "source": [
        "import matplotlib.pyplot as plt\n",
        "import seaborn as sns\n",
        "import pandas as pd\n",
        "\n",
        "# Assuming 'df' is your DataFrame\n",
        "# Calculate the correlation matrix\n",
        "corr_matrix = df.corr()\n",
        "\n",
        "# Create a heatmap\n",
        "plt.figure(figsize=(10, 8))\n",
        "sns.heatmap(corr_matrix, annot=True, fmt=\".2f\", cmap='coolwarm')\n",
        "\n",
        "# Show the plot\n",
        "plt.title('Heatmap of Variable Correlations')\n",
        "plt.show()\n"
      ],
      "metadata": {
        "colab": {
          "base_uri": "https://localhost:8080/",
          "height": 919
        },
        "id": "6tntDqMmzzLE",
        "outputId": "5dac490f-b626-4ebe-827a-a8a7aac3e120"
      },
      "execution_count": null,
      "outputs": [
        {
          "output_type": "stream",
          "name": "stderr",
          "text": [
            "<ipython-input-17-3928c23e96c3>:7: FutureWarning: The default value of numeric_only in DataFrame.corr is deprecated. In a future version, it will default to False. Select only valid columns or specify the value of numeric_only to silence this warning.\n",
            "  corr_matrix = df.corr()\n"
          ]
        },
        {
          "output_type": "display_data",
          "data": {
            "text/plain": [
              "<Figure size 1000x800 with 2 Axes>"
            ],
            "image/png": "[encoded data removed]"
          },
          "metadata": {}
        }
      ]
    },
    {
      "cell_type": "markdown",
      "source": [
        "# Split Training and Testing Sets 80:20"
      ],
      "metadata": {
        "id": "mr_E0eJAEhWM"
      }
    },
    {
      "cell_type": "code",
      "source": [
        "from sklearn.model_selection import train_test_split\n",
        "x_train, x_test, y_train, y_test = train_test_split(x_scaled, y, test_size = 0.2, random_state = 0)"
      ],
      "metadata": {
        "id": "J0h7Zj-Axfai"
      },
      "execution_count": null,
      "outputs": []
    },
    {
      "cell_type": "code",
      "source": [
        "x.columns"
      ],
      "metadata": {
        "colab": {
          "base_uri": "https://localhost:8080/"
        },
        "id": "RSccCPBBdxV4",
        "outputId": "d16b03b1-f752-4cf0-a004-35ffc6a3c189"
      },
      "execution_count": null,
      "outputs": [
        {
          "output_type": "execute_result",
          "data": {
            "text/plain": [
              "Index(['songtitle', 'timesignature', 'loudness', 'tempo', 'key', 'energy'], dtype='object')"
            ]
          },
          "metadata": {},
          "execution_count": 19
        }
      ]
    },
    {
      "cell_type": "code",
      "source": [
        "n_samples = x_train.shape[0]\n",
        "n_featuers = x_train.shape[1]\n",
        "print(f'n_samples: {n_samples}, n_features: {n_featuers}')"
      ],
      "metadata": {
        "colab": {
          "base_uri": "https://localhost:8080/"
        },
        "id": "viJW6bNqxjLY",
        "outputId": "9b45704e-5830-43a7-8f18-914209ea0e40"
      },
      "execution_count": null,
      "outputs": [
        {
          "output_type": "stream",
          "name": "stdout",
          "text": [
            "n_samples: 6059, n_features: 6\n"
          ]
        }
      ]
    },
    {
      "cell_type": "markdown",
      "source": [
        "# Import Keras and define first ANN"
      ],
      "metadata": {
        "id": "9U4FN6gkEtzG"
      }
    },
    {
      "cell_type": "code",
      "source": [
        "# Importing the Keras libraries and packages\n",
        "from keras.layers import Dense\n",
        "from keras.models import Sequential"
      ],
      "metadata": {
        "id": "Do4mYlcPxktW"
      },
      "execution_count": null,
      "outputs": []
    },
    {
      "cell_type": "code",
      "source": [
        "# Importing the Keras libraries and packages\n",
        "from keras.layers import Dense\n",
        "from keras.models import Sequential\n",
        "from keras.callbacks import EarlyStopping\n",
        "\n",
        "# Number of features in your dataset\n",
        "n_features = 6  # Adjusted to match the number of features\n",
        "\n",
        "# Define and initialize the model\n",
        "my_classifier = Sequential()\n",
        "\n",
        "# Adding the input layer AND the first hidden layer\n",
        "my_classifier.add(Dense(units=16, activation='relu', input_dim=n_features))  # Increased units\n",
        "\n",
        "# Adding a second hidden layer with more units\n",
        "my_classifier.add(Dense(units=8, activation='relu'))  # Increased units from previous 6\n",
        "\n",
        "# Adding the output layer\n",
        "my_classifier.add(Dense(units=1, activation='sigmoid'))\n",
        "\n",
        "# Setting up Early Stopping\n",
        "early_stopping = EarlyStopping(\n",
        "    monitor='val_loss',  # Monitors the validation loss\n",
        "    patience=10,         # Number of epochs with no improvement after which training will be stopped\n",
        "    restore_best_weights=True  # Restores model weights from the epoch with the best value of the monitored quantity\n",
        ")\n",
        "\n",
        "# Compile the model\n",
        "my_classifier.compile(optimizer='adam', loss='binary_crossentropy', metrics=['accuracy'])\n",
        "\n",
        "# Fit the model with the early stopping callback\n",
        "history = my_classifier.fit(\n",
        "    x_train, y_train,\n",
        "    validation_split=0.2,\n",
        "    batch_size=10,\n",
        "    epochs=100,\n",
        "    callbacks=[early_stopping]  # Add the callback to the training process\n",
        ")\n"
      ],
      "metadata": {
        "id": "7vUfxKzyxp5M",
        "colab": {
          "base_uri": "https://localhost:8080/"
        },
        "outputId": "9b5e4b9c-dbce-4bc2-d1fe-06639ea959e7"
      },
      "execution_count": null,
      "outputs": [
        {
          "output_type": "stream",
          "name": "stdout",
          "text": [
            "Epoch 1/100\n",
            "485/485 [==============================] - 4s 6ms/step - loss: 0.5118 - accuracy: 0.7634 - val_loss: 0.4109 - val_accuracy: 0.8548\n",
            "Epoch 2/100\n",
            "485/485 [==============================] - 3s 7ms/step - loss: 0.4070 - accuracy: 0.8562 - val_loss: 0.4007 - val_accuracy: 0.8548\n",
            "Epoch 3/100\n",
            "485/485 [==============================] - 3s 5ms/step - loss: 0.4007 - accuracy: 0.8562 - val_loss: 0.3979 - val_accuracy: 0.8548\n",
            "Epoch 4/100\n",
            "485/485 [==============================] - 2s 4ms/step - loss: 0.3977 - accuracy: 0.8562 - val_loss: 0.3958 - val_accuracy: 0.8548\n",
            "Epoch 5/100\n",
            "485/485 [==============================] - 2s 4ms/step - loss: 0.3954 - accuracy: 0.8562 - val_loss: 0.3927 - val_accuracy: 0.8548\n",
            "Epoch 6/100\n",
            "485/485 [==============================] - 2s 4ms/step - loss: 0.3935 - accuracy: 0.8562 - val_loss: 0.3914 - val_accuracy: 0.8548\n",
            "Epoch 7/100\n",
            "485/485 [==============================] - 2s 4ms/step - loss: 0.3920 - accuracy: 0.8562 - val_loss: 0.3901 - val_accuracy: 0.8548\n",
            "Epoch 8/100\n",
            "485/485 [==============================] - 2s 4ms/step - loss: 0.3905 - accuracy: 0.8562 - val_loss: 0.3894 - val_accuracy: 0.8548\n",
            "Epoch 9/100\n",
            "485/485 [==============================] - 3s 6ms/step - loss: 0.3891 - accuracy: 0.8562 - val_loss: 0.3886 - val_accuracy: 0.8548\n",
            "Epoch 10/100\n",
            "485/485 [==============================] - 2s 4ms/step - loss: 0.3885 - accuracy: 0.8562 - val_loss: 0.3881 - val_accuracy: 0.8548\n",
            "Epoch 11/100\n",
            "485/485 [==============================] - 2s 4ms/step - loss: 0.3871 - accuracy: 0.8562 - val_loss: 0.3885 - val_accuracy: 0.8548\n",
            "Epoch 12/100\n",
            "485/485 [==============================] - 2s 4ms/step - loss: 0.3864 - accuracy: 0.8562 - val_loss: 0.3868 - val_accuracy: 0.8548\n",
            "Epoch 13/100\n",
            "485/485 [==============================] - 2s 4ms/step - loss: 0.3859 - accuracy: 0.8562 - val_loss: 0.3857 - val_accuracy: 0.8548\n",
            "Epoch 14/100\n",
            "485/485 [==============================] - 2s 4ms/step - loss: 0.3853 - accuracy: 0.8562 - val_loss: 0.3862 - val_accuracy: 0.8548\n",
            "Epoch 15/100\n",
            "485/485 [==============================] - 2s 5ms/step - loss: 0.3847 - accuracy: 0.8562 - val_loss: 0.3848 - val_accuracy: 0.8540\n",
            "Epoch 16/100\n",
            "485/485 [==============================] - 2s 5ms/step - loss: 0.3839 - accuracy: 0.8562 - val_loss: 0.3843 - val_accuracy: 0.8540\n",
            "Epoch 17/100\n",
            "485/485 [==============================] - 2s 4ms/step - loss: 0.3835 - accuracy: 0.8562 - val_loss: 0.3857 - val_accuracy: 0.8548\n",
            "Epoch 18/100\n",
            "485/485 [==============================] - 2s 4ms/step - loss: 0.3822 - accuracy: 0.8560 - val_loss: 0.3858 - val_accuracy: 0.8531\n",
            "Epoch 19/100\n",
            "485/485 [==============================] - 2s 4ms/step - loss: 0.3833 - accuracy: 0.8558 - val_loss: 0.3858 - val_accuracy: 0.8540\n",
            "Epoch 20/100\n",
            "485/485 [==============================] - 2s 4ms/step - loss: 0.3828 - accuracy: 0.8562 - val_loss: 0.3836 - val_accuracy: 0.8540\n",
            "Epoch 21/100\n",
            "485/485 [==============================] - 2s 4ms/step - loss: 0.3826 - accuracy: 0.8564 - val_loss: 0.3831 - val_accuracy: 0.8540\n",
            "Epoch 22/100\n",
            "485/485 [==============================] - 3s 5ms/step - loss: 0.3820 - accuracy: 0.8564 - val_loss: 0.3835 - val_accuracy: 0.8540\n",
            "Epoch 23/100\n",
            "485/485 [==============================] - 2s 5ms/step - loss: 0.3819 - accuracy: 0.8560 - val_loss: 0.3825 - val_accuracy: 0.8540\n",
            "Epoch 24/100\n",
            "485/485 [==============================] - 2s 4ms/step - loss: 0.3819 - accuracy: 0.8556 - val_loss: 0.3836 - val_accuracy: 0.8540\n",
            "Epoch 25/100\n",
            "485/485 [==============================] - 2s 4ms/step - loss: 0.3818 - accuracy: 0.8562 - val_loss: 0.3828 - val_accuracy: 0.8540\n",
            "Epoch 26/100\n",
            "485/485 [==============================] - 2s 4ms/step - loss: 0.3817 - accuracy: 0.8562 - val_loss: 0.3824 - val_accuracy: 0.8540\n",
            "Epoch 27/100\n",
            "485/485 [==============================] - 2s 4ms/step - loss: 0.3811 - accuracy: 0.8564 - val_loss: 0.3820 - val_accuracy: 0.8540\n",
            "Epoch 28/100\n",
            "485/485 [==============================] - 2s 4ms/step - loss: 0.3809 - accuracy: 0.8556 - val_loss: 0.3823 - val_accuracy: 0.8540\n",
            "Epoch 29/100\n",
            "485/485 [==============================] - 3s 6ms/step - loss: 0.3809 - accuracy: 0.8558 - val_loss: 0.3798 - val_accuracy: 0.8548\n",
            "Epoch 30/100\n",
            "485/485 [==============================] - 2s 4ms/step - loss: 0.3808 - accuracy: 0.8566 - val_loss: 0.3824 - val_accuracy: 0.8523\n",
            "Epoch 31/100\n",
            "485/485 [==============================] - 2s 4ms/step - loss: 0.3807 - accuracy: 0.8560 - val_loss: 0.3828 - val_accuracy: 0.8531\n",
            "Epoch 32/100\n",
            "485/485 [==============================] - 2s 4ms/step - loss: 0.3803 - accuracy: 0.8564 - val_loss: 0.3816 - val_accuracy: 0.8540\n",
            "Epoch 33/100\n",
            "485/485 [==============================] - 2s 4ms/step - loss: 0.3802 - accuracy: 0.8562 - val_loss: 0.3823 - val_accuracy: 0.8540\n",
            "Epoch 34/100\n",
            "485/485 [==============================] - 2s 4ms/step - loss: 0.3797 - accuracy: 0.8564 - val_loss: 0.3820 - val_accuracy: 0.8556\n",
            "Epoch 35/100\n",
            "485/485 [==============================] - 3s 6ms/step - loss: 0.3802 - accuracy: 0.8564 - val_loss: 0.3819 - val_accuracy: 0.8540\n",
            "Epoch 36/100\n",
            "485/485 [==============================] - 2s 5ms/step - loss: 0.3796 - accuracy: 0.8556 - val_loss: 0.3813 - val_accuracy: 0.8540\n",
            "Epoch 37/100\n",
            "485/485 [==============================] - 2s 4ms/step - loss: 0.3799 - accuracy: 0.8564 - val_loss: 0.3802 - val_accuracy: 0.8548\n",
            "Epoch 38/100\n",
            "485/485 [==============================] - 2s 4ms/step - loss: 0.3797 - accuracy: 0.8558 - val_loss: 0.3806 - val_accuracy: 0.8531\n",
            "Epoch 39/100\n",
            "485/485 [==============================] - 2s 4ms/step - loss: 0.3792 - accuracy: 0.8556 - val_loss: 0.3808 - val_accuracy: 0.8540\n"
          ]
        }
      ]
    },
    {
      "cell_type": "code",
      "source": [
        "import tensorflow as tf\n",
        "tf.keras.utils.plot_model(my_classifier, to_file='model.png', show_shapes=True)"
      ],
      "metadata": {
        "colab": {
          "base_uri": "https://localhost:8080/",
          "height": 422
        },
        "id": "pJy_7575haEP",
        "outputId": "974e691a-7ad4-4f18-89fc-1a8da4d3ee27"
      },
      "execution_count": null,
      "outputs": [
        {
          "output_type": "execute_result",
          "data": {
            "image/png": "[encoded data removed]",
            "text/plain": [
              "<IPython.core.display.Image object>"
            ]
          },
          "metadata": {},
          "execution_count": 34
        }
      ]
    },
    {
      "cell_type": "markdown",
      "source": [
        "# Run Predictions and Plot Accuracy and Loss"
      ],
      "metadata": {
        "id": "N9VyPjn7E54e"
      }
    },
    {
      "cell_type": "code",
      "source": [
        "y_pred_train = my_classifier.predict(x_train)\n",
        "y_pred_train = (y_pred_train > 0.5)"
      ],
      "metadata": {
        "colab": {
          "base_uri": "https://localhost:8080/"
        },
        "id": "oT1vXQR8iojQ",
        "outputId": "750ed7c4-660c-45ef-a263-4668ecbfc9c5"
      },
      "execution_count": null,
      "outputs": [
        {
          "output_type": "stream",
          "name": "stdout",
          "text": [
            "190/190 [==============================] - 0s 2ms/step\n"
          ]
        }
      ]
    },
    {
      "cell_type": "code",
      "source": [
        "# Predicting the Test set results\n",
        "y_pred_test = my_classifier.predict(x_test)\n",
        "y_pred_test = (y_pred_test > 0.5)"
      ],
      "metadata": {
        "colab": {
          "base_uri": "https://localhost:8080/"
        },
        "id": "f89XOfHsl4pn",
        "outputId": "bd3d9ea0-c887-4a31-8d23-6eb0173d6d90"
      },
      "execution_count": null,
      "outputs": [
        {
          "output_type": "stream",
          "name": "stdout",
          "text": [
            "48/48 [==============================] - 0s 2ms/step\n"
          ]
        }
      ]
    },
    {
      "cell_type": "code",
      "source": [
        "# Making the Confusion Matrix\n",
        "from sklearn.metrics import confusion_matrix\n",
        "cm = confusion_matrix(y_test, y_pred_test)"
      ],
      "metadata": {
        "id": "1Na5EmeTl7AW"
      },
      "execution_count": null,
      "outputs": []
    },
    {
      "cell_type": "code",
      "source": [
        "cm"
      ],
      "metadata": {
        "colab": {
          "base_uri": "https://localhost:8080/"
        },
        "id": "ulmAe9vil-nm",
        "outputId": "acb97308-9efe-470a-d940-6329eb2c14d5"
      },
      "execution_count": null,
      "outputs": [
        {
          "output_type": "execute_result",
          "data": {
            "text/plain": [
              "array([[1267,    2],\n",
              "       [ 246,    0]])"
            ]
          },
          "metadata": {},
          "execution_count": 38
        }
      ]
    },
    {
      "cell_type": "code",
      "source": [
        "# list all the data in history\n",
        "print(history.history.keys())"
      ],
      "metadata": {
        "colab": {
          "base_uri": "https://localhost:8080/"
        },
        "id": "uiao8xGKmCPX",
        "outputId": "741157d2-52f1-46c4-e2dd-a00f6007c162"
      },
      "execution_count": null,
      "outputs": [
        {
          "output_type": "stream",
          "name": "stdout",
          "text": [
            "dict_keys(['loss', 'accuracy', 'val_loss', 'val_accuracy'])\n"
          ]
        }
      ]
    },
    {
      "cell_type": "code",
      "source": [
        "# Plot the accuracy for both train and validation set\n",
        "plt.subplots() # open a new plot\n",
        "plt.plot(history.history['accuracy'])\n",
        "plt.plot(history.history['val_accuracy'])\n",
        "plt.title('model accuracy')\n",
        "plt.ylabel('accuracy')\n",
        "plt.xlabel('epoch')\n",
        "plt.legend(['train', 'validation'])\n",
        "plt.show()"
      ],
      "metadata": {
        "colab": {
          "base_uri": "https://localhost:8080/",
          "height": 472
        },
        "id": "A-pDEqqRmFfp",
        "outputId": "a811664c-b3eb-4813-ebdb-716e2c53fa33"
      },
      "execution_count": null,
      "outputs": [
        {
          "output_type": "display_data",
          "data": {
            "text/plain": [
              "<Figure size 640x480 with 1 Axes>"
            ],
            "image/png": "[encoded data removed]"
          },
          "metadata": {}
        }
      ]
    },
    {
      "cell_type": "code",
      "source": [
        "# Plot the loss for both train and validation set\n",
        "plt.subplots() # open a new plot\n",
        "plt.plot(history.history['loss'])\n",
        "plt.plot(history.history['val_loss'])\n",
        "plt.title('model loss')\n",
        "plt.ylabel('loss')\n",
        "plt.xlabel('epoch')\n",
        "plt.legend(['train', 'validation'])\n",
        "plt.show()"
      ],
      "metadata": {
        "colab": {
          "base_uri": "https://localhost:8080/",
          "height": 472
        },
        "id": "sQhbypYrmIW4",
        "outputId": "487bc5b5-f828-40dc-b7c0-56ad8ba05a3c"
      },
      "execution_count": null,
      "outputs": [
        {
          "output_type": "display_data",
          "data": {
            "text/plain": [
              "<Figure size 640x480 with 1 Axes>"
            ],
            "image/png": "[encoded data removed]"
          },
          "metadata": {}
        }
      ]
    },
    {
      "cell_type": "markdown",
      "source": [
        "# Analysis of the Results:\n",
        "The analysis of the early results depicted in the accuracy and loss graphs for the neural network model reveals the following:\n",
        "\n",
        "1. **Model Accuracy**: The model exhibits high training accuracy, beginning near 84% and remaining stable throughout the training epochs. This indicates that the model is learning well from the training data and is consistently able to predict the correct outcomes.\n",
        "\n",
        "2. **Validation Accuracy**: The validation accuracy also starts high and closely follows the training accuracy, suggesting that the model is generalizing well to unseen data. There is no significant gap between the training and validation accuracy, which is a good sign that the model is not overfitting.\n",
        "\n",
        "3. **Model Loss**: The training loss decreases sharply in the initial epochs and then plateaus, which is typical behavior indicating initial learning and subsequent convergence to a minimum of the loss function.\n",
        "\n",
        "4. **Validation Loss**: The validation loss mirrors the training loss very closely, again indicating good generalization and no overfitting. The convergence of validation loss along with training loss is a positive sign of the model's stability.\n",
        "\n",
        "Overall, the early results suggest that the neural network is performing well on this classification task. The high accuracy and low loss on both training and validation sets demonstrate that the model is able to learn from the training data and generalize those learnings to new, unseen data without overfitting.\n",
        "\n",
        "These results are promising, but it's important to consider the full context of the problem. For example, if the dataset is imbalanced, accuracy might not be the best metric to rely on solely. In such cases, looking at other metrics like precision, recall, and F1-score is crucial. Additionally, if the validation accuracy and loss start to diverge from the training metrics in later epochs, it could indicate overfitting, and techniques such as early stopping, dropout, or further regularization might be needed.\n",
        "\n",
        "Further analysis would benefit from understanding more about the dataset's characteristics, such as class distribution and feature correlations, which may impact model performance and the choice of evaluation metrics."
      ],
      "metadata": {
        "id": "fBDGVyT8F4b-"
      }
    },
    {
      "cell_type": "markdown",
      "source": [
        "# Iterations of the ANN\n",
        "\n",
        "The code provided is the culmination of a rigorous iterative process aimed at fine-tuning a neural network for the classification task of predicting Billboard hits based on a song's attributes. This iterative process is a fundamental aspect of machine learning, particularly deep learning, where numerous experiments are conducted to identify the optimal architecture and hyperparameters that yield the best model performance.\n",
        "\n",
        "Throughout these iterations, various configurations and parameters were tested, including:\n",
        "\n",
        "- Adjusting the **number of neurons** (units) in each layer to find a balance that provides enough capacity for the model to learn the underlying patterns in the data without overfitting.\n",
        "- Implementing **Batch Normalization** to stabilize the learning process and improve the speed, performance, and stability of the neural network.\n",
        "- Introducing **Dropout** as a regularization technique to prevent overfitting by randomly setting a fraction of input units to 0 at each update during training time.\n",
        "- Experimenting with the **learning rate** and employing a **ReduceLROnPlateau** strategy to reduce the learning rate when the model's improvement on the validation set plateaus, allowing for more fine-grained weight updates.\n",
        "- Incorporating **EarlyStopping** to halt training when the validation loss ceases to decrease, thereby preventing wasted computation and overfitting. The patience parameter was carefully chosen based on previous iterations to strike the right balance between allowing adequate training time and preventing overfitting.\n",
        "- Using the **ModelCheckpoint** callback to save the model at its best performance on the validation loss, ensuring the best model is retained despite further training epochs.\n",
        "\n",
        "The current code reflects the best-performing configuration from these iterations, designed to maximize the model's ability to generalize from the training data to unseen data, which is essential for robust predictive performance on real-world datasets.\n",
        "\n",
        "It is important to note that the journey to this point involved trial and error, analysis of model performance metrics, and adjustments based on theoretical understanding and empirical evidence. The iterations were guided by a systematic approach to modify one aspect at a time and evaluate its impact, leading to the refined model architecture and training strategy you see in the code.\n",
        "\n",
        "As you proceed to run this code, keep in mind that this is an informed starting point based on past experiments, and further fine-tuning may be required as more data becomes available or as the model is tested in different contexts."
      ],
      "metadata": {
        "id": "XoLArfEnHA7a"
      }
    },
    {
      "cell_type": "code",
      "source": [
        "# Importing the Keras libraries and packages\n",
        "from keras.layers import Dense, Dropout, BatchNormalization\n",
        "from keras.models import Sequential\n",
        "from keras.callbacks import EarlyStopping, ReduceLROnPlateau, ModelCheckpoint\n",
        "from keras.optimizers import Adam\n",
        "\n",
        "# Number of features in your dataset\n",
        "n_features = 6  # Adjusted to match the number of features\n",
        "\n",
        "# Define and initialize the model\n",
        "my_classifier = Sequential()\n",
        "\n",
        "# Adding the input layer\n",
        "my_classifier.add(Dense(units=128, activation='relu', input_dim=n_features))  # Increased units\n",
        "my_classifier.add(BatchNormalization())\n",
        "my_classifier.add(Dropout(0.2))\n",
        "\n",
        "# Adding more hidden layers with increased complexity\n",
        "my_classifier.add(Dense(units=64, activation='relu'))  # Increased units\n",
        "my_classifier.add(BatchNormalization())\n",
        "my_classifier.add(Dropout(0.2))\n",
        "\n",
        "# Additional hidden layer\n",
        "my_classifier.add(Dense(units=64, activation='relu'))  # Increased units\n",
        "my_classifier.add(BatchNormalization())\n",
        "my_classifier.add(Dropout(0.2))\n",
        "\n",
        "# Adding the output layer\n",
        "my_classifier.add(Dense(units=1, activation='sigmoid'))\n",
        "\n",
        "# Initialize Adam optimizer with a refined learning rate\n",
        "adam_optimizer = Adam(learning_rate=0.00005)  # Further reduced learning rate for fine-tuning\n",
        "\n",
        "# Compile the model using the Adam optimizer with the custom learning rate\n",
        "my_classifier.compile(optimizer=adam_optimizer, loss='binary_crossentropy', metrics=['accuracy'])\n",
        "\n",
        "# Callbacks\n",
        "early_stopping = EarlyStopping(monitor='val_loss', patience=20, restore_best_weights=True)  # Increased patience\n",
        "reduce_lr = ReduceLROnPlateau(monitor='val_loss', factor=0.2, patience=10, min_lr=0.00001)  # Adjusted patience\n",
        "model_checkpoint = ModelCheckpoint('best_model.h5', monitor='val_loss', save_best_only=True)\n",
        "\n",
        "# Fit the model with the callbacks\n",
        "history = my_classifier.fit(\n",
        "    x_train, y_train,\n",
        "    validation_split=0.2,\n",
        "    batch_size=32,  # Kept the batch size constant\n",
        "    epochs=200,  # Increased number of epochs\n",
        "    callbacks=[early_stopping, reduce_lr, model_checkpoint]\n",
        ")\n"
      ],
      "metadata": {
        "colab": {
          "base_uri": "https://localhost:8080/"
        },
        "id": "FVOU12HusSP6",
        "outputId": "47771a39-e7ca-43bf-9145-c23ac3d0a2d8"
      },
      "execution_count": null,
      "outputs": [
        {
          "output_type": "stream",
          "name": "stdout",
          "text": [
            "Epoch 1/200\n",
            "152/152 [==============================] - 6s 11ms/step - loss: 0.8859 - accuracy: 0.5088 - val_loss: 0.7022 - val_accuracy: 0.5041 - lr: 5.0000e-05\n",
            "Epoch 2/200\n",
            " 13/152 [=>............................] - ETA: 1s - loss: 0.8330 - accuracy: 0.5216"
          ]
        },
        {
          "output_type": "stream",
          "name": "stderr",
          "text": [
            "/usr/local/lib/python3.10/dist-packages/keras/src/engine/training.py:3079: UserWarning: You are saving your model as an HDF5 file via `model.save()`. This file format is considered legacy. We recommend using instead the native Keras format, e.g. `model.save('my_model.keras')`.\n",
            "  saving_api.save_model(\n"
          ]
        },
        {
          "output_type": "stream",
          "name": "stdout",
          "text": [
            "152/152 [==============================] - 1s 7ms/step - loss: 0.8096 - accuracy: 0.5391 - val_loss: 0.6965 - val_accuracy: 0.5462 - lr: 5.0000e-05\n",
            "Epoch 3/200\n",
            "152/152 [==============================] - 1s 7ms/step - loss: 0.7857 - accuracy: 0.5496 - val_loss: 0.7018 - val_accuracy: 0.5454 - lr: 5.0000e-05\n",
            "Epoch 4/200\n",
            "152/152 [==============================] - 1s 7ms/step - loss: 0.7494 - accuracy: 0.5529 - val_loss: 0.6779 - val_accuracy: 0.5965 - lr: 5.0000e-05\n",
            "Epoch 5/200\n",
            "152/152 [==============================] - 1s 7ms/step - loss: 0.7048 - accuracy: 0.5925 - val_loss: 0.6474 - val_accuracy: 0.6386 - lr: 5.0000e-05\n",
            "Epoch 6/200\n",
            "152/152 [==============================] - 1s 7ms/step - loss: 0.6806 - accuracy: 0.6266 - val_loss: 0.6219 - val_accuracy: 0.6683 - lr: 5.0000e-05\n",
            "Epoch 7/200\n",
            "152/152 [==============================] - 1s 7ms/step - loss: 0.6653 - accuracy: 0.6247 - val_loss: 0.5996 - val_accuracy: 0.7005 - lr: 5.0000e-05\n",
            "Epoch 8/200\n",
            "152/152 [==============================] - 1s 7ms/step - loss: 0.6359 - accuracy: 0.6550 - val_loss: 0.5790 - val_accuracy: 0.7335 - lr: 5.0000e-05\n",
            "Epoch 9/200\n",
            "152/152 [==============================] - 1s 7ms/step - loss: 0.6168 - accuracy: 0.6755 - val_loss: 0.5633 - val_accuracy: 0.7574 - lr: 5.0000e-05\n",
            "Epoch 10/200\n",
            "152/152 [==============================] - 1s 7ms/step - loss: 0.5945 - accuracy: 0.6899 - val_loss: 0.5464 - val_accuracy: 0.7715 - lr: 5.0000e-05\n",
            "Epoch 11/200\n",
            "152/152 [==============================] - 1s 8ms/step - loss: 0.5938 - accuracy: 0.6905 - val_loss: 0.5326 - val_accuracy: 0.7913 - lr: 5.0000e-05\n",
            "Epoch 12/200\n",
            "152/152 [==============================] - 1s 9ms/step - loss: 0.5716 - accuracy: 0.7157 - val_loss: 0.5157 - val_accuracy: 0.8119 - lr: 5.0000e-05\n",
            "Epoch 13/200\n",
            "152/152 [==============================] - 1s 10ms/step - loss: 0.5500 - accuracy: 0.7328 - val_loss: 0.5030 - val_accuracy: 0.8342 - lr: 5.0000e-05\n",
            "Epoch 14/200\n",
            "152/152 [==============================] - 1s 7ms/step - loss: 0.5369 - accuracy: 0.7508 - val_loss: 0.4913 - val_accuracy: 0.8375 - lr: 5.0000e-05\n",
            "Epoch 15/200\n",
            "152/152 [==============================] - 1s 7ms/step - loss: 0.5249 - accuracy: 0.7619 - val_loss: 0.4817 - val_accuracy: 0.8432 - lr: 5.0000e-05\n",
            "Epoch 16/200\n",
            "152/152 [==============================] - 1s 7ms/step - loss: 0.5135 - accuracy: 0.7689 - val_loss: 0.4710 - val_accuracy: 0.8490 - lr: 5.0000e-05\n",
            "Epoch 17/200\n",
            "152/152 [==============================] - 1s 7ms/step - loss: 0.5104 - accuracy: 0.7753 - val_loss: 0.4595 - val_accuracy: 0.8498 - lr: 5.0000e-05\n",
            "Epoch 18/200\n",
            "152/152 [==============================] - 1s 7ms/step - loss: 0.4983 - accuracy: 0.7873 - val_loss: 0.4530 - val_accuracy: 0.8515 - lr: 5.0000e-05\n",
            "Epoch 19/200\n",
            "152/152 [==============================] - 1s 7ms/step - loss: 0.5004 - accuracy: 0.7889 - val_loss: 0.4458 - val_accuracy: 0.8531 - lr: 5.0000e-05\n",
            "Epoch 20/200\n",
            "152/152 [==============================] - 1s 7ms/step - loss: 0.4845 - accuracy: 0.8011 - val_loss: 0.4397 - val_accuracy: 0.8540 - lr: 5.0000e-05\n",
            "Epoch 21/200\n",
            "152/152 [==============================] - 1s 7ms/step - loss: 0.4740 - accuracy: 0.8100 - val_loss: 0.4335 - val_accuracy: 0.8548 - lr: 5.0000e-05\n",
            "Epoch 22/200\n",
            "152/152 [==============================] - 1s 7ms/step - loss: 0.4726 - accuracy: 0.8118 - val_loss: 0.4288 - val_accuracy: 0.8548 - lr: 5.0000e-05\n",
            "Epoch 23/200\n",
            "152/152 [==============================] - 1s 8ms/step - loss: 0.4713 - accuracy: 0.8182 - val_loss: 0.4239 - val_accuracy: 0.8564 - lr: 5.0000e-05\n",
            "Epoch 24/200\n",
            "152/152 [==============================] - 2s 10ms/step - loss: 0.4571 - accuracy: 0.8250 - val_loss: 0.4202 - val_accuracy: 0.8556 - lr: 5.0000e-05\n",
            "Epoch 25/200\n",
            "152/152 [==============================] - 1s 10ms/step - loss: 0.4593 - accuracy: 0.8261 - val_loss: 0.4155 - val_accuracy: 0.8556 - lr: 5.0000e-05\n",
            "Epoch 26/200\n",
            "152/152 [==============================] - 1s 7ms/step - loss: 0.4512 - accuracy: 0.8267 - val_loss: 0.4112 - val_accuracy: 0.8556 - lr: 5.0000e-05\n",
            "Epoch 27/200\n",
            "152/152 [==============================] - 1s 7ms/step - loss: 0.4497 - accuracy: 0.8300 - val_loss: 0.4083 - val_accuracy: 0.8556 - lr: 5.0000e-05\n",
            "Epoch 28/200\n",
            "152/152 [==============================] - 1s 7ms/step - loss: 0.4528 - accuracy: 0.8325 - val_loss: 0.4057 - val_accuracy: 0.8556 - lr: 5.0000e-05\n",
            "Epoch 29/200\n",
            "152/152 [==============================] - 1s 7ms/step - loss: 0.4357 - accuracy: 0.8380 - val_loss: 0.4034 - val_accuracy: 0.8556 - lr: 5.0000e-05\n",
            "Epoch 30/200\n",
            "152/152 [==============================] - 1s 7ms/step - loss: 0.4416 - accuracy: 0.8399 - val_loss: 0.4015 - val_accuracy: 0.8556 - lr: 5.0000e-05\n",
            "Epoch 31/200\n",
            "152/152 [==============================] - 1s 7ms/step - loss: 0.4397 - accuracy: 0.8387 - val_loss: 0.3997 - val_accuracy: 0.8564 - lr: 5.0000e-05\n",
            "Epoch 32/200\n",
            "152/152 [==============================] - 1s 7ms/step - loss: 0.4394 - accuracy: 0.8397 - val_loss: 0.3983 - val_accuracy: 0.8556 - lr: 5.0000e-05\n",
            "Epoch 33/200\n",
            "152/152 [==============================] - 1s 7ms/step - loss: 0.4287 - accuracy: 0.8420 - val_loss: 0.3976 - val_accuracy: 0.8556 - lr: 5.0000e-05\n",
            "Epoch 34/200\n",
            "152/152 [==============================] - 1s 7ms/step - loss: 0.4291 - accuracy: 0.8424 - val_loss: 0.3969 - val_accuracy: 0.8564 - lr: 5.0000e-05\n",
            "Epoch 35/200\n",
            "152/152 [==============================] - 1s 10ms/step - loss: 0.4293 - accuracy: 0.8436 - val_loss: 0.3957 - val_accuracy: 0.8564 - lr: 5.0000e-05\n",
            "Epoch 36/200\n",
            "152/152 [==============================] - 1s 9ms/step - loss: 0.4307 - accuracy: 0.8453 - val_loss: 0.3948 - val_accuracy: 0.8556 - lr: 5.0000e-05\n",
            "Epoch 37/200\n",
            "152/152 [==============================] - 1s 8ms/step - loss: 0.4287 - accuracy: 0.8453 - val_loss: 0.3945 - val_accuracy: 0.8556 - lr: 5.0000e-05\n",
            "Epoch 38/200\n",
            "152/152 [==============================] - 1s 7ms/step - loss: 0.4256 - accuracy: 0.8463 - val_loss: 0.3936 - val_accuracy: 0.8556 - lr: 5.0000e-05\n",
            "Epoch 39/200\n",
            "152/152 [==============================] - 1s 7ms/step - loss: 0.4325 - accuracy: 0.8453 - val_loss: 0.3927 - val_accuracy: 0.8556 - lr: 5.0000e-05\n",
            "Epoch 40/200\n",
            "152/152 [==============================] - 1s 7ms/step - loss: 0.4270 - accuracy: 0.8459 - val_loss: 0.3924 - val_accuracy: 0.8564 - lr: 5.0000e-05\n",
            "Epoch 41/200\n",
            "152/152 [==============================] - 1s 7ms/step - loss: 0.4291 - accuracy: 0.8479 - val_loss: 0.3923 - val_accuracy: 0.8556 - lr: 5.0000e-05\n",
            "Epoch 42/200\n",
            "152/152 [==============================] - 1s 6ms/step - loss: 0.4163 - accuracy: 0.8479 - val_loss: 0.3924 - val_accuracy: 0.8556 - lr: 5.0000e-05\n",
            "Epoch 43/200\n",
            "152/152 [==============================] - 1s 6ms/step - loss: 0.4214 - accuracy: 0.8471 - val_loss: 0.3923 - val_accuracy: 0.8556 - lr: 5.0000e-05\n",
            "Epoch 44/200\n",
            "152/152 [==============================] - 1s 7ms/step - loss: 0.4260 - accuracy: 0.8469 - val_loss: 0.3915 - val_accuracy: 0.8556 - lr: 5.0000e-05\n",
            "Epoch 45/200\n",
            "152/152 [==============================] - 1s 7ms/step - loss: 0.4240 - accuracy: 0.8463 - val_loss: 0.3911 - val_accuracy: 0.8556 - lr: 5.0000e-05\n",
            "Epoch 46/200\n",
            "152/152 [==============================] - 1s 7ms/step - loss: 0.4253 - accuracy: 0.8496 - val_loss: 0.3907 - val_accuracy: 0.8556 - lr: 5.0000e-05\n",
            "Epoch 47/200\n",
            "152/152 [==============================] - 1s 9ms/step - loss: 0.4176 - accuracy: 0.8506 - val_loss: 0.3907 - val_accuracy: 0.8556 - lr: 5.0000e-05\n",
            "Epoch 48/200\n",
            "152/152 [==============================] - 1s 9ms/step - loss: 0.4276 - accuracy: 0.8515 - val_loss: 0.3906 - val_accuracy: 0.8556 - lr: 5.0000e-05\n",
            "Epoch 49/200\n",
            "152/152 [==============================] - 1s 9ms/step - loss: 0.4183 - accuracy: 0.8488 - val_loss: 0.3900 - val_accuracy: 0.8556 - lr: 5.0000e-05\n",
            "Epoch 50/200\n",
            "152/152 [==============================] - 1s 7ms/step - loss: 0.4153 - accuracy: 0.8492 - val_loss: 0.3899 - val_accuracy: 0.8556 - lr: 5.0000e-05\n",
            "Epoch 51/200\n",
            "152/152 [==============================] - 1s 7ms/step - loss: 0.4226 - accuracy: 0.8459 - val_loss: 0.3895 - val_accuracy: 0.8556 - lr: 5.0000e-05\n",
            "Epoch 52/200\n",
            "152/152 [==============================] - 1s 7ms/step - loss: 0.4211 - accuracy: 0.8512 - val_loss: 0.3897 - val_accuracy: 0.8556 - lr: 5.0000e-05\n",
            "Epoch 53/200\n",
            "152/152 [==============================] - 1s 7ms/step - loss: 0.4156 - accuracy: 0.8515 - val_loss: 0.3893 - val_accuracy: 0.8556 - lr: 5.0000e-05\n",
            "Epoch 54/200\n",
            "152/152 [==============================] - 1s 7ms/step - loss: 0.4165 - accuracy: 0.8477 - val_loss: 0.3888 - val_accuracy: 0.8556 - lr: 5.0000e-05\n",
            "Epoch 55/200\n",
            "152/152 [==============================] - 1s 7ms/step - loss: 0.4182 - accuracy: 0.8492 - val_loss: 0.3895 - val_accuracy: 0.8556 - lr: 5.0000e-05\n",
            "Epoch 56/200\n",
            "152/152 [==============================] - 1s 7ms/step - loss: 0.4163 - accuracy: 0.8508 - val_loss: 0.3893 - val_accuracy: 0.8556 - lr: 5.0000e-05\n",
            "Epoch 57/200\n",
            "152/152 [==============================] - 1s 6ms/step - loss: 0.4160 - accuracy: 0.8512 - val_loss: 0.3895 - val_accuracy: 0.8556 - lr: 5.0000e-05\n",
            "Epoch 58/200\n",
            "152/152 [==============================] - 1s 7ms/step - loss: 0.4196 - accuracy: 0.8486 - val_loss: 0.3886 - val_accuracy: 0.8556 - lr: 5.0000e-05\n",
            "Epoch 59/200\n",
            "152/152 [==============================] - 1s 8ms/step - loss: 0.4195 - accuracy: 0.8504 - val_loss: 0.3888 - val_accuracy: 0.8556 - lr: 5.0000e-05\n",
            "Epoch 60/200\n",
            "152/152 [==============================] - 1s 9ms/step - loss: 0.4127 - accuracy: 0.8510 - val_loss: 0.3888 - val_accuracy: 0.8556 - lr: 5.0000e-05\n",
            "Epoch 61/200\n",
            "152/152 [==============================] - 1s 9ms/step - loss: 0.4103 - accuracy: 0.8510 - val_loss: 0.3891 - val_accuracy: 0.8556 - lr: 5.0000e-05\n",
            "Epoch 62/200\n",
            "152/152 [==============================] - 1s 7ms/step - loss: 0.4195 - accuracy: 0.8539 - val_loss: 0.3890 - val_accuracy: 0.8556 - lr: 5.0000e-05\n",
            "Epoch 63/200\n",
            "152/152 [==============================] - 1s 7ms/step - loss: 0.4095 - accuracy: 0.8527 - val_loss: 0.3886 - val_accuracy: 0.8556 - lr: 5.0000e-05\n",
            "Epoch 64/200\n",
            "152/152 [==============================] - 1s 7ms/step - loss: 0.4215 - accuracy: 0.8488 - val_loss: 0.3884 - val_accuracy: 0.8556 - lr: 5.0000e-05\n",
            "Epoch 65/200\n",
            "152/152 [==============================] - 1s 7ms/step - loss: 0.4156 - accuracy: 0.8494 - val_loss: 0.3876 - val_accuracy: 0.8556 - lr: 5.0000e-05\n",
            "Epoch 66/200\n",
            "152/152 [==============================] - 1s 6ms/step - loss: 0.4129 - accuracy: 0.8502 - val_loss: 0.3882 - val_accuracy: 0.8556 - lr: 5.0000e-05\n",
            "Epoch 67/200\n",
            "152/152 [==============================] - 1s 6ms/step - loss: 0.4175 - accuracy: 0.8515 - val_loss: 0.3882 - val_accuracy: 0.8556 - lr: 5.0000e-05\n",
            "Epoch 68/200\n",
            "152/152 [==============================] - 1s 7ms/step - loss: 0.4062 - accuracy: 0.8535 - val_loss: 0.3882 - val_accuracy: 0.8556 - lr: 5.0000e-05\n",
            "Epoch 69/200\n",
            "152/152 [==============================] - 1s 6ms/step - loss: 0.4098 - accuracy: 0.8529 - val_loss: 0.3885 - val_accuracy: 0.8556 - lr: 5.0000e-05\n",
            "Epoch 70/200\n",
            "152/152 [==============================] - 1s 6ms/step - loss: 0.4209 - accuracy: 0.8500 - val_loss: 0.3886 - val_accuracy: 0.8556 - lr: 5.0000e-05\n",
            "Epoch 71/200\n",
            "152/152 [==============================] - 1s 7ms/step - loss: 0.4101 - accuracy: 0.8512 - val_loss: 0.3881 - val_accuracy: 0.8556 - lr: 5.0000e-05\n",
            "Epoch 72/200\n",
            "152/152 [==============================] - 1s 9ms/step - loss: 0.4121 - accuracy: 0.8521 - val_loss: 0.3882 - val_accuracy: 0.8556 - lr: 5.0000e-05\n",
            "Epoch 73/200\n",
            "152/152 [==============================] - 1s 9ms/step - loss: 0.4148 - accuracy: 0.8496 - val_loss: 0.3874 - val_accuracy: 0.8556 - lr: 5.0000e-05\n",
            "Epoch 74/200\n",
            "152/152 [==============================] - 1s 8ms/step - loss: 0.4115 - accuracy: 0.8506 - val_loss: 0.3875 - val_accuracy: 0.8556 - lr: 5.0000e-05\n",
            "Epoch 75/200\n",
            "152/152 [==============================] - 1s 7ms/step - loss: 0.4137 - accuracy: 0.8498 - val_loss: 0.3873 - val_accuracy: 0.8556 - lr: 5.0000e-05\n",
            "Epoch 76/200\n",
            "152/152 [==============================] - 1s 7ms/step - loss: 0.4101 - accuracy: 0.8517 - val_loss: 0.3874 - val_accuracy: 0.8556 - lr: 5.0000e-05\n",
            "Epoch 77/200\n",
            "152/152 [==============================] - 1s 7ms/step - loss: 0.4079 - accuracy: 0.8510 - val_loss: 0.3871 - val_accuracy: 0.8556 - lr: 5.0000e-05\n",
            "Epoch 78/200\n",
            "152/152 [==============================] - 1s 7ms/step - loss: 0.4109 - accuracy: 0.8537 - val_loss: 0.3868 - val_accuracy: 0.8556 - lr: 5.0000e-05\n",
            "Epoch 79/200\n",
            "152/152 [==============================] - 1s 7ms/step - loss: 0.4123 - accuracy: 0.8504 - val_loss: 0.3869 - val_accuracy: 0.8556 - lr: 5.0000e-05\n",
            "Epoch 80/200\n",
            "152/152 [==============================] - 1s 7ms/step - loss: 0.4176 - accuracy: 0.8529 - val_loss: 0.3871 - val_accuracy: 0.8556 - lr: 5.0000e-05\n",
            "Epoch 81/200\n",
            "152/152 [==============================] - 1s 7ms/step - loss: 0.4113 - accuracy: 0.8510 - val_loss: 0.3873 - val_accuracy: 0.8556 - lr: 5.0000e-05\n",
            "Epoch 82/200\n",
            "152/152 [==============================] - 1s 7ms/step - loss: 0.4055 - accuracy: 0.8504 - val_loss: 0.3870 - val_accuracy: 0.8556 - lr: 5.0000e-05\n",
            "Epoch 83/200\n",
            "152/152 [==============================] - 1s 7ms/step - loss: 0.4058 - accuracy: 0.8517 - val_loss: 0.3868 - val_accuracy: 0.8556 - lr: 5.0000e-05\n",
            "Epoch 84/200\n",
            "152/152 [==============================] - 1s 9ms/step - loss: 0.4040 - accuracy: 0.8510 - val_loss: 0.3861 - val_accuracy: 0.8556 - lr: 5.0000e-05\n",
            "Epoch 85/200\n",
            "152/152 [==============================] - 1s 9ms/step - loss: 0.4091 - accuracy: 0.8539 - val_loss: 0.3858 - val_accuracy: 0.8556 - lr: 5.0000e-05\n",
            "Epoch 86/200\n",
            "152/152 [==============================] - 1s 9ms/step - loss: 0.4059 - accuracy: 0.8527 - val_loss: 0.3865 - val_accuracy: 0.8556 - lr: 5.0000e-05\n",
            "Epoch 87/200\n",
            "152/152 [==============================] - 1s 7ms/step - loss: 0.4152 - accuracy: 0.8512 - val_loss: 0.3863 - val_accuracy: 0.8556 - lr: 5.0000e-05\n",
            "Epoch 88/200\n",
            "152/152 [==============================] - 1s 6ms/step - loss: 0.4086 - accuracy: 0.8529 - val_loss: 0.3863 - val_accuracy: 0.8556 - lr: 5.0000e-05\n",
            "Epoch 89/200\n",
            "152/152 [==============================] - 1s 7ms/step - loss: 0.4103 - accuracy: 0.8541 - val_loss: 0.3861 - val_accuracy: 0.8556 - lr: 5.0000e-05\n",
            "Epoch 90/200\n",
            "152/152 [==============================] - 1s 7ms/step - loss: 0.4033 - accuracy: 0.8525 - val_loss: 0.3865 - val_accuracy: 0.8556 - lr: 5.0000e-05\n",
            "Epoch 91/200\n",
            "152/152 [==============================] - 1s 7ms/step - loss: 0.4010 - accuracy: 0.8533 - val_loss: 0.3866 - val_accuracy: 0.8556 - lr: 5.0000e-05\n",
            "Epoch 92/200\n",
            "152/152 [==============================] - 1s 6ms/step - loss: 0.4024 - accuracy: 0.8508 - val_loss: 0.3864 - val_accuracy: 0.8548 - lr: 5.0000e-05\n",
            "Epoch 93/200\n",
            "152/152 [==============================] - 1s 7ms/step - loss: 0.4043 - accuracy: 0.8506 - val_loss: 0.3869 - val_accuracy: 0.8556 - lr: 5.0000e-05\n",
            "Epoch 94/200\n",
            "152/152 [==============================] - 1s 7ms/step - loss: 0.4037 - accuracy: 0.8533 - val_loss: 0.3863 - val_accuracy: 0.8556 - lr: 5.0000e-05\n",
            "Epoch 95/200\n",
            "152/152 [==============================] - 1s 7ms/step - loss: 0.4020 - accuracy: 0.8523 - val_loss: 0.3864 - val_accuracy: 0.8548 - lr: 5.0000e-05\n",
            "Epoch 96/200\n",
            "152/152 [==============================] - 1s 8ms/step - loss: 0.4040 - accuracy: 0.8529 - val_loss: 0.3863 - val_accuracy: 0.8548 - lr: 1.0000e-05\n",
            "Epoch 97/200\n",
            "152/152 [==============================] - 2s 10ms/step - loss: 0.4017 - accuracy: 0.8531 - val_loss: 0.3866 - val_accuracy: 0.8548 - lr: 1.0000e-05\n",
            "Epoch 98/200\n",
            "152/152 [==============================] - 1s 9ms/step - loss: 0.3991 - accuracy: 0.8537 - val_loss: 0.3862 - val_accuracy: 0.8548 - lr: 1.0000e-05\n",
            "Epoch 99/200\n",
            "152/152 [==============================] - 1s 7ms/step - loss: 0.4004 - accuracy: 0.8533 - val_loss: 0.3863 - val_accuracy: 0.8556 - lr: 1.0000e-05\n",
            "Epoch 100/200\n",
            "152/152 [==============================] - 1s 6ms/step - loss: 0.4051 - accuracy: 0.8539 - val_loss: 0.3864 - val_accuracy: 0.8548 - lr: 1.0000e-05\n",
            "Epoch 101/200\n",
            "152/152 [==============================] - 1s 7ms/step - loss: 0.4042 - accuracy: 0.8541 - val_loss: 0.3861 - val_accuracy: 0.8548 - lr: 1.0000e-05\n",
            "Epoch 102/200\n",
            "152/152 [==============================] - 1s 7ms/step - loss: 0.4084 - accuracy: 0.8515 - val_loss: 0.3863 - val_accuracy: 0.8548 - lr: 1.0000e-05\n",
            "Epoch 103/200\n",
            "152/152 [==============================] - 1s 8ms/step - loss: 0.4015 - accuracy: 0.8515 - val_loss: 0.3863 - val_accuracy: 0.8548 - lr: 1.0000e-05\n",
            "Epoch 104/200\n",
            "152/152 [==============================] - 1s 6ms/step - loss: 0.4027 - accuracy: 0.8523 - val_loss: 0.3861 - val_accuracy: 0.8548 - lr: 1.0000e-05\n",
            "Epoch 105/200\n",
            "152/152 [==============================] - 1s 6ms/step - loss: 0.4144 - accuracy: 0.8512 - val_loss: 0.3861 - val_accuracy: 0.8548 - lr: 1.0000e-05\n"
          ]
        }
      ]
    },
    {
      "cell_type": "code",
      "source": [
        "y_pred_train = my_classifier.predict(x_train)\n",
        "y_pred_train = (y_pred_train > 0.5)"
      ],
      "metadata": {
        "colab": {
          "base_uri": "https://localhost:8080/"
        },
        "id": "tQeMAnUYsqF7",
        "outputId": "bdb71e61-e8ca-4b77-d6ca-c38075761fe6"
      },
      "execution_count": null,
      "outputs": [
        {
          "output_type": "stream",
          "name": "stdout",
          "text": [
            "190/190 [==============================] - 0s 2ms/step\n"
          ]
        }
      ]
    },
    {
      "cell_type": "code",
      "source": [
        "# Predicting the Test set results\n",
        "y_pred_test = my_classifier.predict(x_test)\n",
        "y_pred_test = (y_pred_test > 0.5)"
      ],
      "metadata": {
        "colab": {
          "base_uri": "https://localhost:8080/"
        },
        "id": "xd3-RTP9suFT",
        "outputId": "f003f915-2805-42f7-d169-44dade3cdbc5"
      },
      "execution_count": null,
      "outputs": [
        {
          "output_type": "stream",
          "name": "stdout",
          "text": [
            "48/48 [==============================] - 0s 3ms/step\n"
          ]
        }
      ]
    },
    {
      "cell_type": "code",
      "source": [
        "# Making the Confusion Matrix\n",
        "from sklearn.metrics import confusion_matrix\n",
        "cm = confusion_matrix(y_test, y_pred_test)"
      ],
      "metadata": {
        "id": "dWj0PO95s3Lz"
      },
      "execution_count": null,
      "outputs": []
    },
    {
      "cell_type": "code",
      "source": [
        "cm\n"
      ],
      "metadata": {
        "colab": {
          "base_uri": "https://localhost:8080/"
        },
        "id": "-0ItX387s4wz",
        "outputId": "8a16c75f-2cc7-40da-854c-fa6302a4545e"
      },
      "execution_count": null,
      "outputs": [
        {
          "output_type": "execute_result",
          "data": {
            "text/plain": [
              "array([[1269,    0],\n",
              "       [ 243,    3]])"
            ]
          },
          "metadata": {},
          "execution_count": 77
        }
      ]
    },
    {
      "cell_type": "code",
      "source": [
        "# list all the data in history\n",
        "print(history.history.keys())"
      ],
      "metadata": {
        "colab": {
          "base_uri": "https://localhost:8080/"
        },
        "id": "vMM00rzas8sr",
        "outputId": "121b7174-7467-492f-a35b-8549eee4d4da"
      },
      "execution_count": null,
      "outputs": [
        {
          "output_type": "stream",
          "name": "stdout",
          "text": [
            "dict_keys(['loss', 'accuracy', 'val_loss', 'val_accuracy', 'lr'])\n"
          ]
        }
      ]
    },
    {
      "cell_type": "code",
      "source": [
        "# Plot the accuracy for both train and validation set\n",
        "plt.subplots() # open a new plot\n",
        "plt.plot(history.history['accuracy'])\n",
        "plt.plot(history.history['val_accuracy'])\n",
        "plt.title('model accuracy')\n",
        "plt.ylabel('accuracy')\n",
        "plt.xlabel('epoch')\n",
        "plt.legend(['train', 'validation'])\n",
        "plt.show()"
      ],
      "metadata": {
        "colab": {
          "base_uri": "https://localhost:8080/",
          "height": 472
        },
        "id": "5F7naOKts_p7",
        "outputId": "feba6714-7305-402c-ecc0-151296867917"
      },
      "execution_count": null,
      "outputs": [
        {
          "output_type": "display_data",
          "data": {
            "text/plain": [
              "<Figure size 640x480 with 1 Axes>"
            ],
            "image/png": "[encoded data removed]"
          },
          "metadata": {}
        }
      ]
    },
    {
      "cell_type": "code",
      "source": [
        "# Plot the loss for both train and validation set\n",
        "plt.subplots() # open a new plot\n",
        "plt.plot(history.history['loss'])\n",
        "plt.plot(history.history['val_loss'])\n",
        "plt.title('model loss')\n",
        "plt.ylabel('loss')\n",
        "plt.xlabel('epoch')\n",
        "plt.legend(['train', 'validation'])\n",
        "plt.show()"
      ],
      "metadata": {
        "colab": {
          "base_uri": "https://localhost:8080/",
          "height": 472
        },
        "id": "HqdhR_7RtDDL",
        "outputId": "b447d180-0bf8-4599-bc4a-831ee2d790c3"
      },
      "execution_count": null,
      "outputs": [
        {
          "output_type": "display_data",
          "data": {
            "text/plain": [
              "<Figure size 640x480 with 1 Axes>"
            ],
            "image/png": "[encoded data removed]"
          },
          "metadata": {}
        }
      ]
    },
    {
      "cell_type": "code",
      "source": [
        "from keras.models import load_model\n",
        "from sklearn.metrics import accuracy_score, precision_score, recall_score, f1_score\n",
        "\n",
        "# Assuming you have already saved the best model during the training process\n",
        "# Load the saved model\n",
        "model = load_model('best_model.h5')\n",
        "\n",
        "# Generate predictions on the test set\n",
        "y_pred = model.predict(x_test)\n",
        "y_pred = (y_pred > 0.5)  # Convert probabilities to binary predictions\n",
        "\n",
        "# Calculate the metrics\n",
        "accuracy = accuracy_score(y_test, y_pred)\n",
        "precision = precision_score(y_test, y_pred)\n",
        "recall = recall_score(y_test, y_pred)\n",
        "f1 = f1_score(y_test, y_pred)\n",
        "\n",
        "# Print the metrics\n",
        "print(f'Accuracy: {accuracy:.4f}')\n",
        "print(f'Precision: {precision:.4f}')\n",
        "print(f'Recall: {recall:.4f}')\n",
        "print(f'F1-score: {f1:.4f}')\n"
      ],
      "metadata": {
        "colab": {
          "base_uri": "https://localhost:8080/"
        },
        "id": "QX4K25tvzTuh",
        "outputId": "3be51f94-b739-45d3-eeb2-2f041f3566a6"
      },
      "execution_count": null,
      "outputs": [
        {
          "output_type": "stream",
          "name": "stdout",
          "text": [
            "48/48 [==============================] - 0s 3ms/step\n",
            "Accuracy: 0.8396\n",
            "Precision: 1.0000\n",
            "Recall: 0.0122\n",
            "F1-score: 0.0241\n"
          ]
        }
      ]
    },
    {
      "cell_type": "markdown",
      "source": [
        "# Analysis and Results\n",
        "\n",
        "The model's accuracy and loss graphs indicate a robust performance. Here's a succinct analysis:\n",
        "\n",
        "1. **Accuracy**: The accuracy for both training and validation rapidly increases and plateaus at a high level, with the validation accuracy closely tracking the training accuracy. This suggests that the model generalizes well without significant overfitting.\n",
        "\n",
        "2. **Loss**: The loss for both datasets sharply declines, leveling off as epochs increase, which is typical of a model learning and then stabilizing. The close alignment of training and validation loss further indicates the model's generalization capability.\n",
        "\n",
        "The graphs reflect a well-tuned model with a good balance between bias and variance, likely to perform well on unseen data. However, the true utility of the model will depend on its performance across a range of metrics beyond just accuracy, especially in the context of an imbalanced dataset where accuracy might not be fully indicative of performance.\n",
        "\n",
        "The accuracy and loss graphs above, paired with the metrics below, reveal a nuanced view of the model's performance:\n",
        "\n",
        "1. **Accuracy**: The model reaches a high accuracy of approximately 84%, showing a strong ability to correctly classify songs as hits or not based on the dataset used. This high accuracy is consistent throughout the training, with little variance between training and validation sets, suggesting good generalization.\n",
        "\n",
        "2. **Loss**: The loss decreases sharply and then stabilizes for both training and validation, a sign that the model is learning effectively and not overfitting.\n",
        "\n",
        "3. **Precision and Recall**: Despite the high accuracy, the precision is 1.00, and the recall is extremely low at 0.0122. This suggests that while the model is very confident in its positive predictions (hence the high precision), it is missing out on a significant number of actual positive cases (low recall).\n",
        "\n",
        "4. **F1-score**: The low F1-score of 0.0241 reflects the imbalance between precision and recall. It indicates that the model is not effectively capturing the positive class, which is critical for a balanced assessment in classification tasks.\n",
        "\n",
        "This analysis indicates that while the model is accurate, it is not sufficient for predicting song hits effectively due to its inability to capture most of the true hits (as indicated by the low recall). Further investigation into data imbalance or model's threshold tuning might be necessary to improve recall and, consequently, the F1-score."
      ],
      "metadata": {
        "id": "AxHtWNb1IWsl"
      }
    },
    {
      "cell_type": "markdown",
      "source": [
        "# Exploring Machine Learning Classifiers for Song Popularity Prediction\n",
        "\n",
        "In this section, we dive into the core machine learning aspect of our analysis. The goal is to evaluate and compare several traditional machine learning algorithms to determine their efficacy in predicting the likelihood of a song becoming a hit. The models we will explore include Logistic Regression, Decision Trees, Random Forests, Support Vector Machines (SVM), K-Nearest Neighbors (KNN), and Naive Bayes.\n",
        "\n",
        "Each model has its unique strengths and is suitable for different types of classification problems. Logistic Regression and SVM are particularly well-suited for binary classification tasks. Decision Trees and Random Forests are powerful for capturing complex patterns in the data, with the latter providing an added layer of robustness through ensemble learning. KNN leverages similarity measures to make predictions, making it intuitive and straightforward. Naive Bayes, based on Bayes' theorem, is effective for making predictions when the features are independent.\n",
        "\n",
        "We will follow these steps for each algorithm:\n",
        "\n",
        "1. **Training**: Fit the model to our training data, `x_train` and `y_train`.\n",
        "2. **Prediction**: Use the model to predict outcomes on our testing set, `x_test`.\n",
        "3. **Evaluation**: Assess the model's performance using key metrics such as accuracy, precision, recall, and F1-score. These metrics will help us understand not just the overall accuracy but also how well the model balances false positives and false negatives — crucial for imbalanced datasets like ours.\n",
        "\n",
        "By systematically analyzing these models, we will gain insights into which algorithm performs best for our song popularity prediction task and discuss the implications of our findings. Let's begin the training and evaluation process."
      ],
      "metadata": {
        "id": "NJqARrlpHgy5"
      }
    },
    {
      "cell_type": "code",
      "source": [
        "from sklearn.linear_model import LogisticRegression\n",
        "from sklearn.tree import DecisionTreeClassifier\n",
        "from sklearn.ensemble import RandomForestClassifier\n",
        "from sklearn.svm import SVC\n",
        "from sklearn.neighbors import KNeighborsClassifier\n",
        "from sklearn.naive_bayes import GaussianNB\n",
        "from sklearn.metrics import accuracy_score, precision_score, recall_score, f1_score\n",
        "\n",
        "# Initialize models\n",
        "models = {\n",
        "    'Logistic Regression': LogisticRegression(max_iter=1000),  # Increase max_iter for convergence\n",
        "    'Decision Tree': DecisionTreeClassifier(),\n",
        "    'Random Forest': RandomForestClassifier(),\n",
        "    'SVM': SVC(),\n",
        "    'K-Nearest Neighbors': KNeighborsClassifier(),\n",
        "    'Naive Bayes': GaussianNB()\n",
        "}\n",
        "\n",
        "# Dictionary to store evaluation metrics\n",
        "evaluation_metrics = {\n",
        "    'Model': [],\n",
        "    'Accuracy': [],\n",
        "    'Precision': [],\n",
        "    'Recall': [],\n",
        "    'F1-Score': []\n",
        "}\n",
        "\n",
        "# Train and evaluate models\n",
        "for name, model in models.items():\n",
        "    # Train model\n",
        "    model.fit(x_train, y_train)\n",
        "\n",
        "    # Make predictions\n",
        "    y_pred_test = model.predict(x_test)\n",
        "\n",
        "    # Calculate metrics\n",
        "    accuracy = accuracy_score(y_test, y_pred_test)\n",
        "    precision = precision_score(y_test, y_pred_test, average='weighted')\n",
        "    recall = recall_score(y_test, y_pred_test, average='weighted')\n",
        "    f1 = f1_score(y_test, y_pred_test, average='weighted')\n",
        "\n",
        "    # Store metrics\n",
        "    evaluation_metrics['Model'].append(name)\n",
        "    evaluation_metrics['Accuracy'].append(accuracy)\n",
        "    evaluation_metrics['Precision'].append(precision)\n",
        "    evaluation_metrics['Recall'].append(recall)\n",
        "    evaluation_metrics['F1-Score'].append(f1)\n",
        "\n",
        "# Print metrics\n",
        "for i in range(len(evaluation_metrics['Model'])):\n",
        "    print(f\"{evaluation_metrics['Model'][i]}:\")\n",
        "    print(f\"  Accuracy: {evaluation_metrics['Accuracy'][i]:.4f}\")\n",
        "    print(f\"  Precision: {evaluation_metrics['Precision'][i]:.4f}\")\n",
        "    print(f\"  Recall: {evaluation_metrics['Recall'][i]:.4f}\")\n",
        "    print(f\"  F1-Score: {evaluation_metrics['F1-Score'][i]:.4f}\\n\")\n"
      ],
      "metadata": {
        "colab": {
          "base_uri": "https://localhost:8080/"
        },
        "id": "sFefMugdzWeJ",
        "outputId": "d971e7b6-1669-44af-e800-6d033d14b025"
      },
      "execution_count": null,
      "outputs": [
        {
          "output_type": "stream",
          "name": "stderr",
          "text": [
            "/usr/local/lib/python3.10/dist-packages/sklearn/utils/validation.py:1143: DataConversionWarning: A column-vector y was passed when a 1d array was expected. Please change the shape of y to (n_samples, ), for example using ravel().\n",
            "  y = column_or_1d(y, warn=True)\n",
            "/usr/local/lib/python3.10/dist-packages/sklearn/metrics/_classification.py:1344: UndefinedMetricWarning: Precision is ill-defined and being set to 0.0 in labels with no predicted samples. Use `zero_division` parameter to control this behavior.\n",
            "  _warn_prf(average, modifier, msg_start, len(result))\n",
            "<ipython-input-83-ef62c60e9792>:31: DataConversionWarning: A column-vector y was passed when a 1d array was expected. Please change the shape of y to (n_samples,), for example using ravel().\n",
            "  model.fit(x_train, y_train)\n",
            "/usr/local/lib/python3.10/dist-packages/sklearn/utils/validation.py:1143: DataConversionWarning: A column-vector y was passed when a 1d array was expected. Please change the shape of y to (n_samples, ), for example using ravel().\n",
            "  y = column_or_1d(y, warn=True)\n",
            "/usr/local/lib/python3.10/dist-packages/sklearn/neighbors/_classification.py:215: DataConversionWarning: A column-vector y was passed when a 1d array was expected. Please change the shape of y to (n_samples,), for example using ravel().\n",
            "  return self._fit(X, y)\n"
          ]
        },
        {
          "output_type": "stream",
          "name": "stdout",
          "text": [
            "Logistic Regression:\n",
            "  Accuracy: 0.8376\n",
            "  Precision: 0.7016\n",
            "  Recall: 0.8376\n",
            "  F1-Score: 0.7636\n",
            "\n",
            "Decision Tree:\n",
            "  Accuracy: 0.7492\n",
            "  Precision: 0.7516\n",
            "  Recall: 0.7492\n",
            "  F1-Score: 0.7504\n",
            "\n",
            "Random Forest:\n",
            "  Accuracy: 0.8389\n",
            "  Precision: 0.7958\n",
            "  Recall: 0.8389\n",
            "  F1-Score: 0.7760\n",
            "\n",
            "SVM:\n",
            "  Accuracy: 0.8370\n",
            "  Precision: 0.7015\n",
            "  Recall: 0.8370\n",
            "  F1-Score: 0.7633\n",
            "\n",
            "K-Nearest Neighbors:\n",
            "  Accuracy: 0.8277\n",
            "  Precision: 0.7645\n",
            "  Recall: 0.8277\n",
            "  F1-Score: 0.7773\n",
            "\n",
            "Naive Bayes:\n",
            "  Accuracy: 0.8343\n",
            "  Precision: 0.7380\n",
            "  Recall: 0.8343\n",
            "  F1-Score: 0.7644\n",
            "\n"
          ]
        },
        {
          "output_type": "stream",
          "name": "stderr",
          "text": [
            "/usr/local/lib/python3.10/dist-packages/sklearn/utils/validation.py:1143: DataConversionWarning: A column-vector y was passed when a 1d array was expected. Please change the shape of y to (n_samples, ), for example using ravel().\n",
            "  y = column_or_1d(y, warn=True)\n"
          ]
        }
      ]
    },
    {
      "cell_type": "markdown",
      "source": [
        "# Here are the Tabulated Results"
      ],
      "metadata": {
        "id": "Hk8XRANnJa2n"
      }
    },
    {
      "cell_type": "code",
      "source": [
        "from IPython.display import HTML\n",
        "\n",
        "# HTML code for the table\n",
        "html_table = \"\"\"\n",
        "<table>\n",
        "    <tr>\n",
        "        <th>Model</th>\n",
        "        <th>Accuracy</th>\n",
        "        <th>Precision</th>\n",
        "        <th>Recall</th>\n",
        "        <th>F1-Score</th>\n",
        "    </tr>\n",
        "    <tr>\n",
        "        <td>Logistic Regression</td>\n",
        "        <td>0.8376</td>\n",
        "        <td>0.7016</td>\n",
        "        <td>0.8376</td>\n",
        "        <td>0.7636</td>\n",
        "    </tr>\n",
        "    <tr>\n",
        "        <td>Decision Tree</td>\n",
        "        <td>0.7492</td>\n",
        "        <td>0.7516</td>\n",
        "        <td>0.7492</td>\n",
        "        <td>0.7504</td>\n",
        "    </tr>\n",
        "    <tr>\n",
        "        <td>Random Forest</td>\n",
        "        <td>0.8389</td>\n",
        "        <td>0.7958</td>\n",
        "        <td>0.8389</td>\n",
        "        <td>0.7760</td>\n",
        "    </tr>\n",
        "    <tr>\n",
        "        <td>SVM</td>\n",
        "        <td>0.8370</td>\n",
        "        <td>0.7015</td>\n",
        "        <td>0.8370</td>\n",
        "        <td>0.7633</td>\n",
        "    </tr>\n",
        "    <tr>\n",
        "        <td>K-Nearest Neighbors</td>\n",
        "        <td>0.8277</td>\n",
        "        <td>0.7645</td>\n",
        "        <td>0.8277</td>\n",
        "        <td>0.7773</td>\n",
        "    </tr>\n",
        "    <tr>\n",
        "        <td>Naive Bayes</td>\n",
        "        <td>0.8343</td>\n",
        "        <td>0.7380</td>\n",
        "        <td>0.8343</td>\n",
        "        <td>0.7644</td>\n",
        "    </tr>\n",
        "    <tr>\n",
        "        <td>Neural Network</td>\n",
        "        <td>0.8396</td>\n",
        "        <td>1.0000</td>\n",
        "        <td>0.0122</td>\n",
        "        <td>0.0241</td>\n",
        "    </tr>\n",
        "</table>\n",
        "\"\"\"\n",
        "\n",
        "# Display the table in the notebook\n",
        "HTML(html_table)\n"
      ],
      "metadata": {
        "colab": {
          "base_uri": "https://localhost:8080/",
          "height": 190
        },
        "id": "62wOJmDz3wrf",
        "outputId": "91c5926d-42a4-491a-d802-cd03952ba961"
      },
      "execution_count": null,
      "outputs": [
        {
          "output_type": "execute_result",
          "data": {
            "text/plain": [
              "<IPython.core.display.HTML object>"
            ],
            "text/html": [
              "\n",
              "<table>\n",
              "    <tr>\n",
              "        <th>Model</th>\n",
              "        <th>Accuracy</th>\n",
              "        <th>Precision</th>\n",
              "        <th>Recall</th>\n",
              "        <th>F1-Score</th>\n",
              "    </tr>\n",
              "    <tr>\n",
              "        <td>Logistic Regression</td>\n",
              "        <td>0.8376</td>\n",
              "        <td>0.7016</td>\n",
              "        <td>0.8376</td>\n",
              "        <td>0.7636</td>\n",
              "    </tr>\n",
              "    <tr>\n",
              "        <td>Decision Tree</td>\n",
              "        <td>0.7492</td>\n",
              "        <td>0.7516</td>\n",
              "        <td>0.7492</td>\n",
              "        <td>0.7504</td>\n",
              "    </tr>\n",
              "    <tr>\n",
              "        <td>Random Forest</td>\n",
              "        <td>0.8389</td>\n",
              "        <td>0.7958</td>\n",
              "        <td>0.8389</td>\n",
              "        <td>0.7760</td>\n",
              "    </tr>\n",
              "    <tr>\n",
              "        <td>SVM</td>\n",
              "        <td>0.8370</td>\n",
              "        <td>0.7015</td>\n",
              "        <td>0.8370</td>\n",
              "        <td>0.7633</td>\n",
              "    </tr>\n",
              "    <tr>\n",
              "        <td>K-Nearest Neighbors</td>\n",
              "        <td>0.8277</td>\n",
              "        <td>0.7645</td>\n",
              "        <td>0.8277</td>\n",
              "        <td>0.7773</td>\n",
              "    </tr>\n",
              "    <tr>\n",
              "        <td>Naive Bayes</td>\n",
              "        <td>0.8343</td>\n",
              "        <td>0.7380</td>\n",
              "        <td>0.8343</td>\n",
              "        <td>0.7644</td>\n",
              "    </tr>\n",
              "    <tr>\n",
              "        <td>Neural Network</td>\n",
              "        <td>0.8396</td>\n",
              "        <td>1.0000</td>\n",
              "        <td>0.0122</td>\n",
              "        <td>0.0241</td>\n",
              "    </tr>\n",
              "</table>\n"
            ]
          },
          "metadata": {},
          "execution_count": 89
        }
      ]
    },
    {
      "cell_type": "markdown",
      "source": [
        "# Conclusion\n",
        "\n",
        "Based on the performance metrics of the various models, here's a summary:\n",
        "\n",
        "1. **Logistic Regression**: Demonstrated solid performance across all metrics with an accuracy of 0.8376 and an F1-score of 0.7636. Its balance between precision and recall suggests good overall performance, particularly in scenarios where both false positives and false negatives carry similar weight.\n",
        "\n",
        "2. **Decision Tree**: Showed a lower accuracy (0.7492) and F1-score (0.7504) compared to other models. Decision trees can be prone to overfitting, which might explain the slightly lower performance. They are, however, very interpretable.\n",
        "\n",
        "3. **Random Forest**: This model achieved the highest accuracy (0.8389) and a strong F1-score (0.7760) among the conventional machine learning algorithms, indicating a good balance between precision and recall. As an ensemble method, it typically offers more robustness and generalizability compared to a single decision tree.\n",
        "\n",
        "4. **SVM (Support Vector Machine)**: Performed comparably to logistic regression in terms of accuracy (0.8370) and F1-score (0.7633). SVMs are effective in high-dimensional spaces and with non-linear boundaries, though they can be less interpretable.\n",
        "\n",
        "5. **K-Nearest Neighbors (KNN)**: Showed slightly lower accuracy (0.8277) but had a relatively high F1-score (0.7773), suggesting it was able to maintain a balance between precision and recall. KNN is a simple, instance-based learning algorithm, effective for datasets where similar cases have similar labels.\n",
        "\n",
        "6. **Naive Bayes**: Scored closely to other models in accuracy (0.8343) and F1-score (0.7644). It's a fast and straightforward probabilistic classifier, especially useful for large datasets and often performs well with categorical data.\n",
        "\n",
        "7. **Neural Network**: While it achieved the highest accuracy (0.8396) and perfect precision (1.0000), its recall (0.0122) and F1-score (0.0241) were significantly lower. This indicates the model was very selective (hence the high precision) but missed a large number of positive cases (low recall), which drastically affected its F1-score. Such a result may imply an issue with the model's ability to generalize or possibly an imbalanced dataset.\n",
        "\n",
        "In conclusion, while **the Neural Network showed high accuracy and precision, its practical effectiveness is questionable due to extremely low recall. The Random Forest model exhibited the best overall performance among the conventional algorithms, offering a strong balance across all evaluated metrics.** The choice of the model should, however, consider the specific context and requirements of the application, such as interpretability, training time, and the nature of the dataset.\n",
        "\n",
        "In closing, I wish to extend my heartfelt appreciation to both professors for their illuminating instruction and support throughout this course. Your enthusiasm for machine learning has profoundly impacted my academic journey, making this challenging subject both accessible and engaging. Thank you for inspiring me and enriching my knowledge in such a significant way.\n",
        "\n",
        "Best regards,\n",
        "Edouard Ratiarson"
      ],
      "metadata": {
        "id": "Y60ShsuN4qYW"
      }
    }
  ]
}